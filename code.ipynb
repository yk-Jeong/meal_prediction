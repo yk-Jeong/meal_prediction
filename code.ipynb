{
  "nbformat": 4,
  "nbformat_minor": 0,
  "metadata": {
    "colab": {
      "name": "2ndProject.ipynb",
      "provenance": [],
      "collapsed_sections": [
        "WDwht9LUnKQD",
        "XaNRjcDA_3ZK",
        "v4QvQK0bALNt",
        "K_H7ffI3WrQb"
      ]
    },
    "kernelspec": {
      "display_name": "Python 3",
      "name": "python3"
    },
    "language_info": {
      "name": "python"
    }
  },
  "cells": [
    {
      "cell_type": "markdown",
      "metadata": {
        "id": "nZtIO0X8kxk8"
      },
      "source": [
        "### 라이브러리 import 및 구글 드라이브 연동 "
      ]
    },
    {
      "cell_type": "code",
      "metadata": {
        "colab": {
          "base_uri": "https://localhost:8080/"
        },
        "id": "dKjFU5aji3lQ",
        "outputId": "dae0fc14-005c-433b-d675-1fc8fe7176f0"
      },
      "source": [
        "from google.colab import drive \n",
        "drive.mount('/content/drive')"
      ],
      "execution_count": 55,
      "outputs": [
        {
          "output_type": "stream",
          "name": "stdout",
          "text": [
            "Drive already mounted at /content/drive; to attempt to forcibly remount, call drive.mount(\"/content/drive\", force_remount=True).\n"
          ]
        }
      ]
    },
    {
      "cell_type": "code",
      "metadata": {
        "id": "SU_J1eWTkhzf"
      },
      "source": [
        "import pandas as pd\n",
        "import numpy as np\n",
        "import pandas_profiling"
      ],
      "execution_count": 56,
      "outputs": []
    },
    {
      "cell_type": "code",
      "metadata": {
        "colab": {
          "base_uri": "https://localhost:8080/",
          "height": 1000
        },
        "id": "IYHdCaG_pCis",
        "outputId": "f9e988ca-0c2e-44e8-ffcf-255a57d731a2"
      },
      "source": [
        "pip install pandas-profiling==2.11.0 --upgrade"
      ],
      "execution_count": 57,
      "outputs": [
        {
          "output_type": "stream",
          "name": "stdout",
          "text": [
            "Requirement already satisfied: pandas-profiling==2.11.0 in /usr/local/lib/python3.7/dist-packages (2.11.0)\n",
            "Requirement already satisfied: tqdm>=4.48.2 in /usr/local/lib/python3.7/dist-packages (from pandas-profiling==2.11.0) (4.62.3)\n",
            "Requirement already satisfied: numpy>=1.16.0 in /usr/local/lib/python3.7/dist-packages (from pandas-profiling==2.11.0) (1.19.5)\n",
            "Requirement already satisfied: htmlmin>=0.1.12 in /usr/local/lib/python3.7/dist-packages (from pandas-profiling==2.11.0) (0.1.12)\n",
            "Requirement already satisfied: missingno>=0.4.2 in /usr/local/lib/python3.7/dist-packages (from pandas-profiling==2.11.0) (0.5.0)\n",
            "Requirement already satisfied: joblib in /usr/local/lib/python3.7/dist-packages (from pandas-profiling==2.11.0) (1.1.0)\n",
            "Requirement already satisfied: ipywidgets>=7.5.1 in /usr/local/lib/python3.7/dist-packages (from pandas-profiling==2.11.0) (7.6.5)\n",
            "Requirement already satisfied: requests>=2.24.0 in /usr/local/lib/python3.7/dist-packages (from pandas-profiling==2.11.0) (2.26.0)\n",
            "Requirement already satisfied: scipy>=1.4.1 in /usr/local/lib/python3.7/dist-packages (from pandas-profiling==2.11.0) (1.7.2)\n",
            "Requirement already satisfied: phik>=0.10.0 in /usr/local/lib/python3.7/dist-packages (from pandas-profiling==2.11.0) (0.12.0)\n",
            "Requirement already satisfied: visions[type_image_path]==0.6.0 in /usr/local/lib/python3.7/dist-packages (from pandas-profiling==2.11.0) (0.6.0)\n",
            "Requirement already satisfied: confuse>=1.0.0 in /usr/local/lib/python3.7/dist-packages (from pandas-profiling==2.11.0) (1.6.0)\n",
            "Collecting matplotlib>=3.2.0\n",
            "  Using cached matplotlib-3.4.3-cp37-cp37m-manylinux1_x86_64.whl (10.3 MB)\n",
            "Requirement already satisfied: tangled-up-in-unicode>=0.0.6 in /usr/local/lib/python3.7/dist-packages (from pandas-profiling==2.11.0) (0.2.0)\n",
            "Requirement already satisfied: attrs>=19.3.0 in /usr/local/lib/python3.7/dist-packages (from pandas-profiling==2.11.0) (21.2.0)\n",
            "Requirement already satisfied: jinja2>=2.11.1 in /usr/local/lib/python3.7/dist-packages (from pandas-profiling==2.11.0) (2.11.3)\n",
            "Requirement already satisfied: seaborn>=0.10.1 in /usr/local/lib/python3.7/dist-packages (from pandas-profiling==2.11.0) (0.11.2)\n",
            "Requirement already satisfied: pandas!=1.0.0,!=1.0.1,!=1.0.2,!=1.1.0,>=0.25.3 in /usr/local/lib/python3.7/dist-packages (from pandas-profiling==2.11.0) (1.1.5)\n",
            "Requirement already satisfied: networkx>=2.4 in /usr/local/lib/python3.7/dist-packages (from visions[type_image_path]==0.6.0->pandas-profiling==2.11.0) (2.6.3)\n",
            "Requirement already satisfied: imagehash in /usr/local/lib/python3.7/dist-packages (from visions[type_image_path]==0.6.0->pandas-profiling==2.11.0) (4.2.1)\n",
            "Requirement already satisfied: Pillow in /usr/local/lib/python3.7/dist-packages (from visions[type_image_path]==0.6.0->pandas-profiling==2.11.0) (7.1.2)\n",
            "Requirement already satisfied: pyyaml in /usr/local/lib/python3.7/dist-packages (from confuse>=1.0.0->pandas-profiling==2.11.0) (3.13)\n",
            "Requirement already satisfied: ipython>=4.0.0 in /usr/local/lib/python3.7/dist-packages (from ipywidgets>=7.5.1->pandas-profiling==2.11.0) (5.5.0)\n",
            "Requirement already satisfied: nbformat>=4.2.0 in /usr/local/lib/python3.7/dist-packages (from ipywidgets>=7.5.1->pandas-profiling==2.11.0) (5.1.3)\n",
            "Requirement already satisfied: widgetsnbextension~=3.5.0 in /usr/local/lib/python3.7/dist-packages (from ipywidgets>=7.5.1->pandas-profiling==2.11.0) (3.5.2)\n",
            "Requirement already satisfied: traitlets>=4.3.1 in /usr/local/lib/python3.7/dist-packages (from ipywidgets>=7.5.1->pandas-profiling==2.11.0) (5.1.1)\n",
            "Requirement already satisfied: ipykernel>=4.5.1 in /usr/local/lib/python3.7/dist-packages (from ipywidgets>=7.5.1->pandas-profiling==2.11.0) (4.10.1)\n",
            "Requirement already satisfied: jupyterlab-widgets>=1.0.0 in /usr/local/lib/python3.7/dist-packages (from ipywidgets>=7.5.1->pandas-profiling==2.11.0) (1.0.2)\n",
            "Requirement already satisfied: ipython-genutils~=0.2.0 in /usr/local/lib/python3.7/dist-packages (from ipywidgets>=7.5.1->pandas-profiling==2.11.0) (0.2.0)\n",
            "Requirement already satisfied: tornado>=4.0 in /usr/local/lib/python3.7/dist-packages (from ipykernel>=4.5.1->ipywidgets>=7.5.1->pandas-profiling==2.11.0) (5.1.1)\n",
            "Requirement already satisfied: jupyter-client in /usr/local/lib/python3.7/dist-packages (from ipykernel>=4.5.1->ipywidgets>=7.5.1->pandas-profiling==2.11.0) (5.3.5)\n",
            "Requirement already satisfied: pickleshare in /usr/local/lib/python3.7/dist-packages (from ipython>=4.0.0->ipywidgets>=7.5.1->pandas-profiling==2.11.0) (0.7.5)\n",
            "Requirement already satisfied: prompt-toolkit<2.0.0,>=1.0.4 in /usr/local/lib/python3.7/dist-packages (from ipython>=4.0.0->ipywidgets>=7.5.1->pandas-profiling==2.11.0) (1.0.18)\n",
            "Requirement already satisfied: simplegeneric>0.8 in /usr/local/lib/python3.7/dist-packages (from ipython>=4.0.0->ipywidgets>=7.5.1->pandas-profiling==2.11.0) (0.8.1)\n",
            "Requirement already satisfied: pexpect in /usr/local/lib/python3.7/dist-packages (from ipython>=4.0.0->ipywidgets>=7.5.1->pandas-profiling==2.11.0) (4.8.0)\n",
            "Requirement already satisfied: decorator in /usr/local/lib/python3.7/dist-packages (from ipython>=4.0.0->ipywidgets>=7.5.1->pandas-profiling==2.11.0) (4.4.2)\n",
            "Requirement already satisfied: setuptools>=18.5 in /usr/local/lib/python3.7/dist-packages (from ipython>=4.0.0->ipywidgets>=7.5.1->pandas-profiling==2.11.0) (57.4.0)\n",
            "Requirement already satisfied: pygments in /usr/local/lib/python3.7/dist-packages (from ipython>=4.0.0->ipywidgets>=7.5.1->pandas-profiling==2.11.0) (2.6.1)\n",
            "Requirement already satisfied: MarkupSafe>=0.23 in /usr/local/lib/python3.7/dist-packages (from jinja2>=2.11.1->pandas-profiling==2.11.0) (2.0.1)\n",
            "Requirement already satisfied: pyparsing>=2.2.1 in /usr/local/lib/python3.7/dist-packages (from matplotlib>=3.2.0->pandas-profiling==2.11.0) (2.4.7)\n",
            "Requirement already satisfied: python-dateutil>=2.7 in /usr/local/lib/python3.7/dist-packages (from matplotlib>=3.2.0->pandas-profiling==2.11.0) (2.8.2)\n",
            "Requirement already satisfied: cycler>=0.10 in /usr/local/lib/python3.7/dist-packages (from matplotlib>=3.2.0->pandas-profiling==2.11.0) (0.11.0)\n",
            "Requirement already satisfied: kiwisolver>=1.0.1 in /usr/local/lib/python3.7/dist-packages (from matplotlib>=3.2.0->pandas-profiling==2.11.0) (1.3.2)\n",
            "Requirement already satisfied: jsonschema!=2.5.0,>=2.4 in /usr/local/lib/python3.7/dist-packages (from nbformat>=4.2.0->ipywidgets>=7.5.1->pandas-profiling==2.11.0) (2.6.0)\n",
            "Requirement already satisfied: jupyter-core in /usr/local/lib/python3.7/dist-packages (from nbformat>=4.2.0->ipywidgets>=7.5.1->pandas-profiling==2.11.0) (4.9.1)\n",
            "Requirement already satisfied: pytz>=2017.2 in /usr/local/lib/python3.7/dist-packages (from pandas!=1.0.0,!=1.0.1,!=1.0.2,!=1.1.0,>=0.25.3->pandas-profiling==2.11.0) (2018.9)\n",
            "Requirement already satisfied: wcwidth in /usr/local/lib/python3.7/dist-packages (from prompt-toolkit<2.0.0,>=1.0.4->ipython>=4.0.0->ipywidgets>=7.5.1->pandas-profiling==2.11.0) (0.2.5)\n",
            "Requirement already satisfied: six>=1.9.0 in /usr/local/lib/python3.7/dist-packages (from prompt-toolkit<2.0.0,>=1.0.4->ipython>=4.0.0->ipywidgets>=7.5.1->pandas-profiling==2.11.0) (1.15.0)\n",
            "Requirement already satisfied: urllib3<1.27,>=1.21.1 in /usr/local/lib/python3.7/dist-packages (from requests>=2.24.0->pandas-profiling==2.11.0) (1.24.3)\n",
            "Requirement already satisfied: idna<4,>=2.5 in /usr/local/lib/python3.7/dist-packages (from requests>=2.24.0->pandas-profiling==2.11.0) (2.10)\n",
            "Requirement already satisfied: charset-normalizer~=2.0.0 in /usr/local/lib/python3.7/dist-packages (from requests>=2.24.0->pandas-profiling==2.11.0) (2.0.7)\n",
            "Requirement already satisfied: certifi>=2017.4.17 in /usr/local/lib/python3.7/dist-packages (from requests>=2.24.0->pandas-profiling==2.11.0) (2021.10.8)\n",
            "Requirement already satisfied: notebook>=4.4.1 in /usr/local/lib/python3.7/dist-packages (from widgetsnbextension~=3.5.0->ipywidgets>=7.5.1->pandas-profiling==2.11.0) (5.3.1)\n",
            "Requirement already satisfied: nbconvert in /usr/local/lib/python3.7/dist-packages (from notebook>=4.4.1->widgetsnbextension~=3.5.0->ipywidgets>=7.5.1->pandas-profiling==2.11.0) (5.6.1)\n",
            "Requirement already satisfied: Send2Trash in /usr/local/lib/python3.7/dist-packages (from notebook>=4.4.1->widgetsnbextension~=3.5.0->ipywidgets>=7.5.1->pandas-profiling==2.11.0) (1.8.0)\n",
            "Requirement already satisfied: terminado>=0.8.1 in /usr/local/lib/python3.7/dist-packages (from notebook>=4.4.1->widgetsnbextension~=3.5.0->ipywidgets>=7.5.1->pandas-profiling==2.11.0) (0.12.1)\n",
            "Requirement already satisfied: pyzmq>=13 in /usr/local/lib/python3.7/dist-packages (from jupyter-client->ipykernel>=4.5.1->ipywidgets>=7.5.1->pandas-profiling==2.11.0) (22.3.0)\n",
            "Requirement already satisfied: ptyprocess in /usr/local/lib/python3.7/dist-packages (from terminado>=0.8.1->notebook>=4.4.1->widgetsnbextension~=3.5.0->ipywidgets>=7.5.1->pandas-profiling==2.11.0) (0.7.0)\n",
            "Requirement already satisfied: PyWavelets in /usr/local/lib/python3.7/dist-packages (from imagehash->visions[type_image_path]==0.6.0->pandas-profiling==2.11.0) (1.1.1)\n",
            "Requirement already satisfied: pandocfilters>=1.4.1 in /usr/local/lib/python3.7/dist-packages (from nbconvert->notebook>=4.4.1->widgetsnbextension~=3.5.0->ipywidgets>=7.5.1->pandas-profiling==2.11.0) (1.5.0)\n",
            "Requirement already satisfied: entrypoints>=0.2.2 in /usr/local/lib/python3.7/dist-packages (from nbconvert->notebook>=4.4.1->widgetsnbextension~=3.5.0->ipywidgets>=7.5.1->pandas-profiling==2.11.0) (0.3)\n",
            "Requirement already satisfied: testpath in /usr/local/lib/python3.7/dist-packages (from nbconvert->notebook>=4.4.1->widgetsnbextension~=3.5.0->ipywidgets>=7.5.1->pandas-profiling==2.11.0) (0.5.0)\n",
            "Requirement already satisfied: defusedxml in /usr/local/lib/python3.7/dist-packages (from nbconvert->notebook>=4.4.1->widgetsnbextension~=3.5.0->ipywidgets>=7.5.1->pandas-profiling==2.11.0) (0.7.1)\n",
            "Requirement already satisfied: mistune<2,>=0.8.1 in /usr/local/lib/python3.7/dist-packages (from nbconvert->notebook>=4.4.1->widgetsnbextension~=3.5.0->ipywidgets>=7.5.1->pandas-profiling==2.11.0) (0.8.4)\n",
            "Requirement already satisfied: bleach in /usr/local/lib/python3.7/dist-packages (from nbconvert->notebook>=4.4.1->widgetsnbextension~=3.5.0->ipywidgets>=7.5.1->pandas-profiling==2.11.0) (4.1.0)\n",
            "Requirement already satisfied: webencodings in /usr/local/lib/python3.7/dist-packages (from bleach->nbconvert->notebook>=4.4.1->widgetsnbextension~=3.5.0->ipywidgets>=7.5.1->pandas-profiling==2.11.0) (0.5.1)\n",
            "Requirement already satisfied: packaging in /usr/local/lib/python3.7/dist-packages (from bleach->nbconvert->notebook>=4.4.1->widgetsnbextension~=3.5.0->ipywidgets>=7.5.1->pandas-profiling==2.11.0) (21.2)\n",
            "Installing collected packages: matplotlib\n",
            "  Attempting uninstall: matplotlib\n",
            "    Found existing installation: matplotlib 3.1.1\n",
            "    Uninstalling matplotlib-3.1.1:\n",
            "      Successfully uninstalled matplotlib-3.1.1\n",
            "\u001b[31mERROR: pip's dependency resolver does not currently take into account all the packages that are installed. This behaviour is the source of the following dependency conflicts.\n",
            "pdpbox 0.2.1 requires matplotlib==3.1.1, but you have matplotlib 3.4.3 which is incompatible.\n",
            "albumentations 0.1.12 requires imgaug<0.2.7,>=0.2.5, but you have imgaug 0.2.9 which is incompatible.\u001b[0m\n",
            "Successfully installed matplotlib-3.4.3\n"
          ]
        },
        {
          "output_type": "display_data",
          "data": {
            "application/vnd.colab-display-data+json": {
              "pip_warning": {
                "packages": [
                  "matplotlib",
                  "mpl_toolkits"
                ]
              }
            }
          },
          "metadata": {}
        }
      ]
    },
    {
      "cell_type": "markdown",
      "metadata": {
        "id": "8x-BJjZ7dyjE"
      },
      "source": [
        "lib for visualization"
      ]
    },
    {
      "cell_type": "code",
      "metadata": {
        "id": "bJJkLQnZd0iR"
      },
      "source": [
        "import matplotlib.pyplot as plt\n",
        "import seaborn as sns"
      ],
      "execution_count": 58,
      "outputs": []
    },
    {
      "cell_type": "code",
      "metadata": {
        "colab": {
          "base_uri": "https://localhost:8080/",
          "height": 578
        },
        "id": "6uybm2pTMHu1",
        "outputId": "817923cc-0dfe-4758-a36c-ea054d68470a"
      },
      "source": [
        "pip install pdpbox"
      ],
      "execution_count": 59,
      "outputs": [
        {
          "output_type": "stream",
          "name": "stdout",
          "text": [
            "Requirement already satisfied: pdpbox in /usr/local/lib/python3.7/dist-packages (0.2.1)\n",
            "Requirement already satisfied: numpy in /usr/local/lib/python3.7/dist-packages (from pdpbox) (1.19.5)\n",
            "Requirement already satisfied: pandas in /usr/local/lib/python3.7/dist-packages (from pdpbox) (1.1.5)\n",
            "Requirement already satisfied: psutil in /usr/local/lib/python3.7/dist-packages (from pdpbox) (5.4.8)\n",
            "Collecting matplotlib==3.1.1\n",
            "  Using cached matplotlib-3.1.1-cp37-cp37m-manylinux1_x86_64.whl (13.1 MB)\n",
            "Requirement already satisfied: joblib in /usr/local/lib/python3.7/dist-packages (from pdpbox) (1.1.0)\n",
            "Requirement already satisfied: scipy in /usr/local/lib/python3.7/dist-packages (from pdpbox) (1.7.2)\n",
            "Requirement already satisfied: sklearn in /usr/local/lib/python3.7/dist-packages (from pdpbox) (0.0)\n",
            "Requirement already satisfied: pyparsing!=2.0.4,!=2.1.2,!=2.1.6,>=2.0.1 in /usr/local/lib/python3.7/dist-packages (from matplotlib==3.1.1->pdpbox) (2.4.7)\n",
            "Requirement already satisfied: python-dateutil>=2.1 in /usr/local/lib/python3.7/dist-packages (from matplotlib==3.1.1->pdpbox) (2.8.2)\n",
            "Requirement already satisfied: kiwisolver>=1.0.1 in /usr/local/lib/python3.7/dist-packages (from matplotlib==3.1.1->pdpbox) (1.3.2)\n",
            "Requirement already satisfied: cycler>=0.10 in /usr/local/lib/python3.7/dist-packages (from matplotlib==3.1.1->pdpbox) (0.11.0)\n",
            "Requirement already satisfied: six>=1.5 in /usr/local/lib/python3.7/dist-packages (from python-dateutil>=2.1->matplotlib==3.1.1->pdpbox) (1.15.0)\n",
            "Requirement already satisfied: pytz>=2017.2 in /usr/local/lib/python3.7/dist-packages (from pandas->pdpbox) (2018.9)\n",
            "Requirement already satisfied: scikit-learn in /usr/local/lib/python3.7/dist-packages (from sklearn->pdpbox) (0.22.2.post1)\n",
            "Installing collected packages: matplotlib\n",
            "  Attempting uninstall: matplotlib\n",
            "    Found existing installation: matplotlib 3.4.3\n",
            "    Uninstalling matplotlib-3.4.3:\n",
            "      Successfully uninstalled matplotlib-3.4.3\n",
            "\u001b[31mERROR: pip's dependency resolver does not currently take into account all the packages that are installed. This behaviour is the source of the following dependency conflicts.\n",
            "pandas-profiling 2.11.0 requires matplotlib>=3.2.0, but you have matplotlib 3.1.1 which is incompatible.\n",
            "albumentations 0.1.12 requires imgaug<0.2.7,>=0.2.5, but you have imgaug 0.2.9 which is incompatible.\u001b[0m\n",
            "Successfully installed matplotlib-3.1.1\n"
          ]
        },
        {
          "output_type": "display_data",
          "data": {
            "application/vnd.colab-display-data+json": {
              "pip_warning": {
                "packages": [
                  "matplotlib",
                  "mpl_toolkits"
                ]
              }
            }
          },
          "metadata": {}
        }
      ]
    },
    {
      "cell_type": "code",
      "metadata": {
        "colab": {
          "base_uri": "https://localhost:8080/"
        },
        "id": "KGXktF3YM14L",
        "outputId": "f40446c3-7e1d-4c97-9a05-833a23675b30"
      },
      "source": [
        "pip install shap"
      ],
      "execution_count": 60,
      "outputs": [
        {
          "output_type": "stream",
          "name": "stdout",
          "text": [
            "Requirement already satisfied: shap in /usr/local/lib/python3.7/dist-packages (0.40.0)\n",
            "Requirement already satisfied: scikit-learn in /usr/local/lib/python3.7/dist-packages (from shap) (0.22.2.post1)\n",
            "Requirement already satisfied: tqdm>4.25.0 in /usr/local/lib/python3.7/dist-packages (from shap) (4.62.3)\n",
            "Requirement already satisfied: pandas in /usr/local/lib/python3.7/dist-packages (from shap) (1.1.5)\n",
            "Requirement already satisfied: scipy in /usr/local/lib/python3.7/dist-packages (from shap) (1.7.2)\n",
            "Requirement already satisfied: numpy in /usr/local/lib/python3.7/dist-packages (from shap) (1.19.5)\n",
            "Requirement already satisfied: numba in /usr/local/lib/python3.7/dist-packages (from shap) (0.51.2)\n",
            "Requirement already satisfied: cloudpickle in /usr/local/lib/python3.7/dist-packages (from shap) (1.3.0)\n",
            "Requirement already satisfied: slicer==0.0.7 in /usr/local/lib/python3.7/dist-packages (from shap) (0.0.7)\n",
            "Requirement already satisfied: packaging>20.9 in /usr/local/lib/python3.7/dist-packages (from shap) (21.2)\n",
            "Requirement already satisfied: pyparsing<3,>=2.0.2 in /usr/local/lib/python3.7/dist-packages (from packaging>20.9->shap) (2.4.7)\n",
            "Requirement already satisfied: llvmlite<0.35,>=0.34.0.dev0 in /usr/local/lib/python3.7/dist-packages (from numba->shap) (0.34.0)\n",
            "Requirement already satisfied: setuptools in /usr/local/lib/python3.7/dist-packages (from numba->shap) (57.4.0)\n",
            "Requirement already satisfied: pytz>=2017.2 in /usr/local/lib/python3.7/dist-packages (from pandas->shap) (2018.9)\n",
            "Requirement already satisfied: python-dateutil>=2.7.3 in /usr/local/lib/python3.7/dist-packages (from pandas->shap) (2.8.2)\n",
            "Requirement already satisfied: six>=1.5 in /usr/local/lib/python3.7/dist-packages (from python-dateutil>=2.7.3->pandas->shap) (1.15.0)\n",
            "Requirement already satisfied: joblib>=0.11 in /usr/local/lib/python3.7/dist-packages (from scikit-learn->shap) (1.1.0)\n"
          ]
        }
      ]
    },
    {
      "cell_type": "code",
      "metadata": {
        "id": "e58OocTrMMyx"
      },
      "source": [
        "import shap\n",
        "from pdpbox.pdp import pdp_isolate, pdp_plot #단일 feature\n",
        "from pdpbox.pdp import pdp_interact, pdp_interact_plot #복수 features"
      ],
      "execution_count": 61,
      "outputs": []
    },
    {
      "cell_type": "markdown",
      "metadata": {
        "id": "CH-njq3YdvYG"
      },
      "source": [
        "lib for modeling"
      ]
    },
    {
      "cell_type": "code",
      "metadata": {
        "id": "Yh1O1-bGh7h0"
      },
      "source": [
        "#data split\n",
        "from sklearn.model_selection import train_test_split"
      ],
      "execution_count": 62,
      "outputs": []
    },
    {
      "cell_type": "code",
      "metadata": {
        "colab": {
          "base_uri": "https://localhost:8080/"
        },
        "id": "kx8bBztaiB2i",
        "outputId": "3153e2b2-73bc-4d37-f756-7dee8c2ac801"
      },
      "source": [
        "pip install --upgrade category_encoders"
      ],
      "execution_count": 63,
      "outputs": [
        {
          "output_type": "stream",
          "name": "stdout",
          "text": [
            "Requirement already satisfied: category_encoders in /usr/local/lib/python3.7/dist-packages (2.3.0)\n",
            "Requirement already satisfied: scipy>=1.0.0 in /usr/local/lib/python3.7/dist-packages (from category_encoders) (1.7.2)\n",
            "Requirement already satisfied: numpy>=1.14.0 in /usr/local/lib/python3.7/dist-packages (from category_encoders) (1.19.5)\n",
            "Requirement already satisfied: pandas>=0.21.1 in /usr/local/lib/python3.7/dist-packages (from category_encoders) (1.1.5)\n",
            "Requirement already satisfied: statsmodels>=0.9.0 in /usr/local/lib/python3.7/dist-packages (from category_encoders) (0.10.2)\n",
            "Requirement already satisfied: patsy>=0.5.1 in /usr/local/lib/python3.7/dist-packages (from category_encoders) (0.5.2)\n",
            "Requirement already satisfied: scikit-learn>=0.20.0 in /usr/local/lib/python3.7/dist-packages (from category_encoders) (0.22.2.post1)\n",
            "Requirement already satisfied: python-dateutil>=2.7.3 in /usr/local/lib/python3.7/dist-packages (from pandas>=0.21.1->category_encoders) (2.8.2)\n",
            "Requirement already satisfied: pytz>=2017.2 in /usr/local/lib/python3.7/dist-packages (from pandas>=0.21.1->category_encoders) (2018.9)\n",
            "Requirement already satisfied: six in /usr/local/lib/python3.7/dist-packages (from patsy>=0.5.1->category_encoders) (1.15.0)\n",
            "Requirement already satisfied: joblib>=0.11 in /usr/local/lib/python3.7/dist-packages (from scikit-learn>=0.20.0->category_encoders) (1.1.0)\n"
          ]
        }
      ]
    },
    {
      "cell_type": "code",
      "metadata": {
        "id": "j_qFGUuldrS7"
      },
      "source": [
        "#ordinal-encoder, target encoder\n",
        "from sklearn.preprocessing import OrdinalEncoder\n",
        "from category_encoders import TargetEncoder"
      ],
      "execution_count": 64,
      "outputs": []
    },
    {
      "cell_type": "code",
      "metadata": {
        "id": "DH2ousIHlxUs"
      },
      "source": [
        "#make pipeline\n",
        "from sklearn.pipeline import make_pipeline"
      ],
      "execution_count": 65,
      "outputs": []
    },
    {
      "cell_type": "code",
      "metadata": {
        "id": "attjvCvaMTSO"
      },
      "source": [
        "#선형회귀\n",
        "from sklearn.linear_model import LinearRegression\n",
        "\n",
        "#RF회귀\n",
        "from sklearn.ensemble import RandomForestRegressor\n",
        "\n",
        "#ridge 회귀\n",
        "from sklearn.linear_model import RidgeCV\n",
        "\n",
        "#decision tree\n",
        "from sklearn.tree import DecisionTreeRegressor\n",
        "\n",
        "#xgboost\n",
        "from xgboost import XGBRegressor"
      ],
      "execution_count": 66,
      "outputs": []
    },
    {
      "cell_type": "code",
      "metadata": {
        "id": "0djVAIVZJ5BR"
      },
      "source": [
        "#로그변환을 위한 lib\n",
        "from sklearn.compose import TransformedTargetRegressor\n",
        "\n",
        "#표준화 \n",
        "from sklearn.preprocessing import StandardScaler\n",
        "\n",
        "#결측치 처리\n",
        "from sklearn.impute import SimpleImputer"
      ],
      "execution_count": 67,
      "outputs": []
    },
    {
      "cell_type": "code",
      "metadata": {
        "id": "VJVcdasywiK4"
      },
      "source": [
        "#하이퍼파라미터 탐색을 위한 RandomizedSearchCV\n",
        "from sklearn.model_selection import RandomizedSearchCV\n",
        "\n",
        "#gradient boosting model\n",
        "from xgboost import XGBRegressor"
      ],
      "execution_count": 68,
      "outputs": []
    },
    {
      "cell_type": "code",
      "metadata": {
        "id": "uaL2-2pdiiUp"
      },
      "source": [
        "from scipy.stats import randint, uniform"
      ],
      "execution_count": 69,
      "outputs": []
    },
    {
      "cell_type": "markdown",
      "metadata": {
        "id": "4029p7GdiLu0"
      },
      "source": [
        "평가지표를 위한 lib "
      ]
    },
    {
      "cell_type": "code",
      "metadata": {
        "id": "16Kimyy2iLI0"
      },
      "source": [
        "from sklearn.model_selection import cross_val_score\n",
        "from sklearn.metrics import mean_absolute_error\n",
        "from sklearn.metrics import r2_score"
      ],
      "execution_count": 70,
      "outputs": []
    },
    {
      "cell_type": "markdown",
      "metadata": {
        "id": "4UjDZ5hwktne"
      },
      "source": [
        "### 데이터 로드\n",
        "Kaggle의 Saptarshi Ghosh가 제공하는 Meal delivery company dataset(2018.12.)를 준비하였음 (https://www.kaggle.com/ghoshsaptarshi/av-genpact-hack-dec2018)"
      ]
    },
    {
      "cell_type": "code",
      "metadata": {
        "id": "gLi-84Oyi777"
      },
      "source": [
        "test = pd.read_csv('/content/drive/MyDrive/Colab Notebooks/sprint chl./S2/meal_dataset/test.csv')\n",
        "train = pd.read_csv('/content/drive/MyDrive/Colab Notebooks/sprint chl./S2/meal_dataset/train.csv')\n",
        "meal_info = pd.read_csv('/content/drive/MyDrive/Colab Notebooks/sprint chl./S2/meal_dataset/meal_info.csv')\n",
        "fulfilment_center_info = pd.read_csv('/content/drive/MyDrive/Colab Notebooks/sprint chl./S2/meal_dataset/fulfilment_center_info.csv')"
      ],
      "execution_count": 71,
      "outputs": []
    },
    {
      "cell_type": "markdown",
      "metadata": {
        "id": "4YH0lwEMkvok"
      },
      "source": [
        "### 데이터 확인"
      ]
    },
    {
      "cell_type": "code",
      "metadata": {
        "colab": {
          "base_uri": "https://localhost:8080/"
        },
        "id": "j9E4wrIgkgTp",
        "outputId": "aac86d26-deeb-4cf4-f67f-da697ec43dd1"
      },
      "source": [
        "train.head(), test.head()"
      ],
      "execution_count": 72,
      "outputs": [
        {
          "output_type": "execute_result",
          "data": {
            "text/plain": [
              "(        id  week  ...  homepage_featured  num_orders\n",
              " 0  1379560     1  ...                  0         177\n",
              " 1  1466964     1  ...                  0         270\n",
              " 2  1346989     1  ...                  0         189\n",
              " 3  1338232     1  ...                  0          54\n",
              " 4  1448490     1  ...                  0          40\n",
              " \n",
              " [5 rows x 9 columns],\n",
              "         id  week  ...  emailer_for_promotion  homepage_featured\n",
              " 0  1028232   146  ...                      0                  0\n",
              " 1  1127204   146  ...                      0                  0\n",
              " 2  1212707   146  ...                      0                  0\n",
              " 3  1082698   146  ...                      0                  0\n",
              " 4  1400926   146  ...                      0                  0\n",
              " \n",
              " [5 rows x 8 columns])"
            ]
          },
          "metadata": {},
          "execution_count": 72
        }
      ]
    },
    {
      "cell_type": "code",
      "metadata": {
        "colab": {
          "base_uri": "https://localhost:8080/"
        },
        "id": "Zbn5d3ePk3Cz",
        "outputId": "16d0b6af-39e9-4fac-c73b-cfc2daae9c0b"
      },
      "source": [
        "fulfilment_center_info.head(),meal_info.head()"
      ],
      "execution_count": 73,
      "outputs": [
        {
          "output_type": "execute_result",
          "data": {
            "text/plain": [
              "(   center_id  city_code  region_code center_type  op_area\n",
              " 0         11        679           56      TYPE_A      3.7\n",
              " 1         13        590           56      TYPE_B      6.7\n",
              " 2        124        590           56      TYPE_C      4.0\n",
              " 3         66        648           34      TYPE_A      4.1\n",
              " 4         94        632           34      TYPE_C      3.6,\n",
              "    meal_id   category cuisine\n",
              " 0     1885  Beverages    Thai\n",
              " 1     1993  Beverages    Thai\n",
              " 2     2539  Beverages    Thai\n",
              " 3     1248  Beverages  Indian\n",
              " 4     2631  Beverages  Indian)"
            ]
          },
          "metadata": {},
          "execution_count": 73
        }
      ]
    },
    {
      "cell_type": "markdown",
      "metadata": {
        "id": "HrCZ9N6PDwl7"
      },
      "source": [
        "결측치 확인"
      ]
    },
    {
      "cell_type": "code",
      "metadata": {
        "colab": {
          "base_uri": "https://localhost:8080/"
        },
        "id": "5Ltdu7EzO2am",
        "outputId": "635acf23-d2e7-4a88-f58f-4ff55b0f9aef"
      },
      "source": [
        "train.isna().sum().sort_values(), test.isna().sum().sort_values()"
      ],
      "execution_count": 74,
      "outputs": [
        {
          "output_type": "execute_result",
          "data": {
            "text/plain": [
              "(id                       0\n",
              " week                     0\n",
              " center_id                0\n",
              " meal_id                  0\n",
              " checkout_price           0\n",
              " base_price               0\n",
              " emailer_for_promotion    0\n",
              " homepage_featured        0\n",
              " num_orders               0\n",
              " dtype: int64, id                       0\n",
              " week                     0\n",
              " center_id                0\n",
              " meal_id                  0\n",
              " checkout_price           0\n",
              " base_price               0\n",
              " emailer_for_promotion    0\n",
              " homepage_featured        0\n",
              " dtype: int64)"
            ]
          },
          "metadata": {},
          "execution_count": 74
        }
      ]
    },
    {
      "cell_type": "code",
      "metadata": {
        "colab": {
          "base_uri": "https://localhost:8080/"
        },
        "id": "Queg0C8Ed-T3",
        "outputId": "36796040-bca7-4291-dec4-cbbb18e9993b"
      },
      "source": [
        "fulfilment_center_info.isna().sum().sort_values(), meal_info.isna().sum().sort_values()"
      ],
      "execution_count": 75,
      "outputs": [
        {
          "output_type": "execute_result",
          "data": {
            "text/plain": [
              "(center_id      0\n",
              " city_code      0\n",
              " region_code    0\n",
              " center_type    0\n",
              " op_area        0\n",
              " dtype: int64, meal_id     0\n",
              " category    0\n",
              " cuisine     0\n",
              " dtype: int64)"
            ]
          },
          "metadata": {},
          "execution_count": 75
        }
      ]
    },
    {
      "cell_type": "code",
      "metadata": {
        "colab": {
          "base_uri": "https://localhost:8080/"
        },
        "id": "zkLLOeFX3JVa",
        "outputId": "8d85e062-ce6e-4dda-f2a6-8efcb4f458fd"
      },
      "source": [
        "meal_info['meal_id'].unique()"
      ],
      "execution_count": 76,
      "outputs": [
        {
          "output_type": "execute_result",
          "data": {
            "text/plain": [
              "array([1885, 1993, 2539, 1248, 2631, 1311, 1062, 1778, 1803, 1198, 2707,\n",
              "       1847, 1438, 2494, 2760, 2490, 1109, 2290, 1525, 2704, 1878, 2640,\n",
              "       2577, 1754, 1971, 2306, 2139, 2826, 2664, 2569, 1230, 1207, 2322,\n",
              "       2492, 1216, 1727, 1902, 1247, 2304, 1543, 1770, 2126, 1558, 2581,\n",
              "       1962, 1571, 2956, 2104, 2444, 2867, 1445])"
            ]
          },
          "metadata": {},
          "execution_count": 76
        }
      ]
    },
    {
      "cell_type": "code",
      "metadata": {
        "colab": {
          "base_uri": "https://localhost:8080/"
        },
        "id": "nzQjMqthdqAR",
        "outputId": "7f89be88-027c-4e4f-854f-e2ae4217337d"
      },
      "source": [
        "meal_info['category'].unique()"
      ],
      "execution_count": 77,
      "outputs": [
        {
          "output_type": "execute_result",
          "data": {
            "text/plain": [
              "array(['Beverages', 'Extras', 'Soup', 'Other Snacks', 'Salad',\n",
              "       'Rice Bowl', 'Starters', 'Sandwich', 'Pasta', 'Desert', 'Biryani',\n",
              "       'Pizza', 'Fish', 'Seafood'], dtype=object)"
            ]
          },
          "metadata": {},
          "execution_count": 77
        }
      ]
    },
    {
      "cell_type": "code",
      "metadata": {
        "colab": {
          "base_uri": "https://localhost:8080/"
        },
        "id": "xLq3KoRq3TsW",
        "outputId": "bfa32c97-783a-47c4-f569-691dd34f2616"
      },
      "source": [
        "meal_info['cuisine'].unique() #Continental food = European food"
      ],
      "execution_count": 78,
      "outputs": [
        {
          "output_type": "execute_result",
          "data": {
            "text/plain": [
              "array(['Thai', 'Indian', 'Italian', 'Continental'], dtype=object)"
            ]
          },
          "metadata": {},
          "execution_count": 78
        }
      ]
    },
    {
      "cell_type": "code",
      "metadata": {
        "colab": {
          "base_uri": "https://localhost:8080/"
        },
        "id": "1LzQ4Jzuo7tA",
        "outputId": "0557d7c8-44af-4674-95ef-716381aac39b"
      },
      "source": [
        "test.shape, train.shape, fulfilment_center_info.shape, meal_info.shape"
      ],
      "execution_count": 79,
      "outputs": [
        {
          "output_type": "execute_result",
          "data": {
            "text/plain": [
              "((32573, 8), (456548, 9), (77, 5), (51, 3))"
            ]
          },
          "metadata": {},
          "execution_count": 79
        }
      ]
    },
    {
      "cell_type": "code",
      "metadata": {
        "colab": {
          "base_uri": "https://localhost:8080/"
        },
        "id": "XJAYA3baxjvY",
        "outputId": "6df989b9-d4c5-468d-b783-90b916d0f87f"
      },
      "source": [
        "train.info()"
      ],
      "execution_count": 80,
      "outputs": [
        {
          "output_type": "stream",
          "name": "stdout",
          "text": [
            "<class 'pandas.core.frame.DataFrame'>\n",
            "RangeIndex: 456548 entries, 0 to 456547\n",
            "Data columns (total 9 columns):\n",
            " #   Column                 Non-Null Count   Dtype  \n",
            "---  ------                 --------------   -----  \n",
            " 0   id                     456548 non-null  int64  \n",
            " 1   week                   456548 non-null  int64  \n",
            " 2   center_id              456548 non-null  int64  \n",
            " 3   meal_id                456548 non-null  int64  \n",
            " 4   checkout_price         456548 non-null  float64\n",
            " 5   base_price             456548 non-null  float64\n",
            " 6   emailer_for_promotion  456548 non-null  int64  \n",
            " 7   homepage_featured      456548 non-null  int64  \n",
            " 8   num_orders             456548 non-null  int64  \n",
            "dtypes: float64(2), int64(7)\n",
            "memory usage: 31.3 MB\n"
          ]
        }
      ]
    },
    {
      "cell_type": "code",
      "metadata": {
        "colab": {
          "base_uri": "https://localhost:8080/",
          "height": 316
        },
        "id": "aT2mNJSko_Ce",
        "outputId": "8a237c49-1f24-4419-e171-0a7e42eb9e33"
      },
      "source": [
        "pr = train.profile_report()\n",
        "pr"
      ],
      "execution_count": 81,
      "outputs": [
        {
          "output_type": "error",
          "ename": "AttributeError",
          "evalue": "ignored",
          "traceback": [
            "\u001b[0;31m---------------------------------------------------------------------------\u001b[0m",
            "\u001b[0;31mAttributeError\u001b[0m                            Traceback (most recent call last)",
            "\u001b[0;32m<ipython-input-81-d4980a24d84f>\u001b[0m in \u001b[0;36m<module>\u001b[0;34m()\u001b[0m\n\u001b[0;32m----> 1\u001b[0;31m \u001b[0mpr\u001b[0m \u001b[0;34m=\u001b[0m \u001b[0mtrain\u001b[0m\u001b[0;34m.\u001b[0m\u001b[0mprofile_report\u001b[0m\u001b[0;34m(\u001b[0m\u001b[0;34m)\u001b[0m\u001b[0;34m\u001b[0m\u001b[0;34m\u001b[0m\u001b[0m\n\u001b[0m\u001b[1;32m      2\u001b[0m \u001b[0mpr\u001b[0m\u001b[0;34m\u001b[0m\u001b[0;34m\u001b[0m\u001b[0m\n",
            "\u001b[0;32m/usr/local/lib/python3.7/dist-packages/pandas/core/generic.py\u001b[0m in \u001b[0;36m__getattr__\u001b[0;34m(self, name)\u001b[0m\n\u001b[1;32m   5139\u001b[0m             \u001b[0;32mif\u001b[0m \u001b[0mself\u001b[0m\u001b[0;34m.\u001b[0m\u001b[0m_info_axis\u001b[0m\u001b[0;34m.\u001b[0m\u001b[0m_can_hold_identifiers_and_holds_name\u001b[0m\u001b[0;34m(\u001b[0m\u001b[0mname\u001b[0m\u001b[0;34m)\u001b[0m\u001b[0;34m:\u001b[0m\u001b[0;34m\u001b[0m\u001b[0;34m\u001b[0m\u001b[0m\n\u001b[1;32m   5140\u001b[0m                 \u001b[0;32mreturn\u001b[0m \u001b[0mself\u001b[0m\u001b[0;34m[\u001b[0m\u001b[0mname\u001b[0m\u001b[0;34m]\u001b[0m\u001b[0;34m\u001b[0m\u001b[0;34m\u001b[0m\u001b[0m\n\u001b[0;32m-> 5141\u001b[0;31m             \u001b[0;32mreturn\u001b[0m \u001b[0mobject\u001b[0m\u001b[0;34m.\u001b[0m\u001b[0m__getattribute__\u001b[0m\u001b[0;34m(\u001b[0m\u001b[0mself\u001b[0m\u001b[0;34m,\u001b[0m \u001b[0mname\u001b[0m\u001b[0;34m)\u001b[0m\u001b[0;34m\u001b[0m\u001b[0;34m\u001b[0m\u001b[0m\n\u001b[0m\u001b[1;32m   5142\u001b[0m \u001b[0;34m\u001b[0m\u001b[0m\n\u001b[1;32m   5143\u001b[0m     \u001b[0;32mdef\u001b[0m \u001b[0m__setattr__\u001b[0m\u001b[0;34m(\u001b[0m\u001b[0mself\u001b[0m\u001b[0;34m,\u001b[0m \u001b[0mname\u001b[0m\u001b[0;34m:\u001b[0m \u001b[0mstr\u001b[0m\u001b[0;34m,\u001b[0m \u001b[0mvalue\u001b[0m\u001b[0;34m)\u001b[0m \u001b[0;34m->\u001b[0m \u001b[0;32mNone\u001b[0m\u001b[0;34m:\u001b[0m\u001b[0;34m\u001b[0m\u001b[0;34m\u001b[0m\u001b[0m\n",
            "\u001b[0;31mAttributeError\u001b[0m: 'DataFrame' object has no attribute 'profile_report'"
          ]
        }
      ]
    },
    {
      "cell_type": "markdown",
      "metadata": {
        "id": "cS2y8fMOmal0"
      },
      "source": [
        "target을 num_orders로 하는 회귀 문제로 가정하고, target의 분포를 확인해 봄"
      ]
    },
    {
      "cell_type": "code",
      "metadata": {
        "id": "UNLz2N3Z2av9"
      },
      "source": [
        "target = 'num_orders'"
      ],
      "execution_count": 82,
      "outputs": []
    },
    {
      "cell_type": "code",
      "metadata": {
        "colab": {
          "base_uri": "https://localhost:8080/"
        },
        "id": "CQccs6yi2gkW",
        "outputId": "a38b6b64-5d0b-4369-dad9-7b7c52a1a380"
      },
      "source": [
        "train[target].describe()"
      ],
      "execution_count": 83,
      "outputs": [
        {
          "output_type": "execute_result",
          "data": {
            "text/plain": [
              "count    456548.000000\n",
              "mean        261.872760\n",
              "std         395.922798\n",
              "min          13.000000\n",
              "25%          54.000000\n",
              "50%         136.000000\n",
              "75%         324.000000\n",
              "max       24299.000000\n",
              "Name: num_orders, dtype: float64"
            ]
          },
          "metadata": {},
          "execution_count": 83
        }
      ]
    },
    {
      "cell_type": "markdown",
      "metadata": {
        "id": "lj_rSHDc4fLM"
      },
      "source": [
        "극단적으로 right-skewed함을 확인 "
      ]
    },
    {
      "cell_type": "markdown",
      "metadata": {
        "id": "47e-n7t7pVuE"
      },
      "source": [
        "### Data Wrangling"
      ]
    },
    {
      "cell_type": "markdown",
      "metadata": {
        "id": "AhWxS9JgkeK5"
      },
      "source": [
        "#### 1. merge"
      ]
    },
    {
      "cell_type": "code",
      "metadata": {
        "colab": {
          "base_uri": "https://localhost:8080/"
        },
        "id": "hXxOf-s8dl94",
        "outputId": "1c64c7e6-eb96-4790-a394-5f3ab8475d6a"
      },
      "source": [
        "len(train.meal_id.unique()) == len(meal_info)"
      ],
      "execution_count": 84,
      "outputs": [
        {
          "output_type": "execute_result",
          "data": {
            "text/plain": [
              "True"
            ]
          },
          "metadata": {},
          "execution_count": 84
        }
      ]
    },
    {
      "cell_type": "markdown",
      "metadata": {
        "id": "f3KZzaH-VRmb"
      },
      "source": [
        "meal_info.csv와 fulfilment_center_info를 train과 병합 "
      ]
    },
    {
      "cell_type": "code",
      "metadata": {
        "id": "mXTjQSH1EXN7"
      },
      "source": [
        "train = train.merge(meal_info, on='meal_id')\n",
        "train = train.merge(fulfilment_center_info, on='center_id')"
      ],
      "execution_count": 85,
      "outputs": []
    },
    {
      "cell_type": "markdown",
      "metadata": {
        "id": "2Y8m9LrGVPkB"
      },
      "source": [
        "test set에도 같은 작업을 진행"
      ]
    },
    {
      "cell_type": "code",
      "metadata": {
        "id": "s4Gk6Ce5UfWW"
      },
      "source": [
        "test = test.merge(meal_info, on='meal_id')\n",
        "test = test.merge(fulfilment_center_info, on='center_id')"
      ],
      "execution_count": 86,
      "outputs": []
    },
    {
      "cell_type": "markdown",
      "metadata": {
        "id": "Xx9LGffjkhTU"
      },
      "source": [
        "#### 2. feature engineering"
      ]
    },
    {
      "cell_type": "code",
      "metadata": {
        "colab": {
          "base_uri": "https://localhost:8080/",
          "height": 439
        },
        "id": "tB3EjNI_itQ2",
        "outputId": "90f5f271-18c5-47c9-82ab-c82e8531dfce"
      },
      "source": [
        "train"
      ],
      "execution_count": 87,
      "outputs": [
        {
          "output_type": "execute_result",
          "data": {
            "text/html": [
              "<div>\n",
              "<style scoped>\n",
              "    .dataframe tbody tr th:only-of-type {\n",
              "        vertical-align: middle;\n",
              "    }\n",
              "\n",
              "    .dataframe tbody tr th {\n",
              "        vertical-align: top;\n",
              "    }\n",
              "\n",
              "    .dataframe thead th {\n",
              "        text-align: right;\n",
              "    }\n",
              "</style>\n",
              "<table border=\"1\" class=\"dataframe\">\n",
              "  <thead>\n",
              "    <tr style=\"text-align: right;\">\n",
              "      <th></th>\n",
              "      <th>id</th>\n",
              "      <th>week</th>\n",
              "      <th>center_id</th>\n",
              "      <th>meal_id</th>\n",
              "      <th>checkout_price</th>\n",
              "      <th>base_price</th>\n",
              "      <th>emailer_for_promotion</th>\n",
              "      <th>homepage_featured</th>\n",
              "      <th>num_orders</th>\n",
              "      <th>category</th>\n",
              "      <th>cuisine</th>\n",
              "      <th>city_code</th>\n",
              "      <th>region_code</th>\n",
              "      <th>center_type</th>\n",
              "      <th>op_area</th>\n",
              "    </tr>\n",
              "  </thead>\n",
              "  <tbody>\n",
              "    <tr>\n",
              "      <th>0</th>\n",
              "      <td>1379560</td>\n",
              "      <td>1</td>\n",
              "      <td>55</td>\n",
              "      <td>1885</td>\n",
              "      <td>136.83</td>\n",
              "      <td>152.29</td>\n",
              "      <td>0</td>\n",
              "      <td>0</td>\n",
              "      <td>177</td>\n",
              "      <td>Beverages</td>\n",
              "      <td>Thai</td>\n",
              "      <td>647</td>\n",
              "      <td>56</td>\n",
              "      <td>TYPE_C</td>\n",
              "      <td>2.0</td>\n",
              "    </tr>\n",
              "    <tr>\n",
              "      <th>1</th>\n",
              "      <td>1018704</td>\n",
              "      <td>2</td>\n",
              "      <td>55</td>\n",
              "      <td>1885</td>\n",
              "      <td>135.83</td>\n",
              "      <td>152.29</td>\n",
              "      <td>0</td>\n",
              "      <td>0</td>\n",
              "      <td>323</td>\n",
              "      <td>Beverages</td>\n",
              "      <td>Thai</td>\n",
              "      <td>647</td>\n",
              "      <td>56</td>\n",
              "      <td>TYPE_C</td>\n",
              "      <td>2.0</td>\n",
              "    </tr>\n",
              "    <tr>\n",
              "      <th>2</th>\n",
              "      <td>1196273</td>\n",
              "      <td>3</td>\n",
              "      <td>55</td>\n",
              "      <td>1885</td>\n",
              "      <td>132.92</td>\n",
              "      <td>133.92</td>\n",
              "      <td>0</td>\n",
              "      <td>0</td>\n",
              "      <td>96</td>\n",
              "      <td>Beverages</td>\n",
              "      <td>Thai</td>\n",
              "      <td>647</td>\n",
              "      <td>56</td>\n",
              "      <td>TYPE_C</td>\n",
              "      <td>2.0</td>\n",
              "    </tr>\n",
              "    <tr>\n",
              "      <th>3</th>\n",
              "      <td>1116527</td>\n",
              "      <td>4</td>\n",
              "      <td>55</td>\n",
              "      <td>1885</td>\n",
              "      <td>135.86</td>\n",
              "      <td>134.86</td>\n",
              "      <td>0</td>\n",
              "      <td>0</td>\n",
              "      <td>163</td>\n",
              "      <td>Beverages</td>\n",
              "      <td>Thai</td>\n",
              "      <td>647</td>\n",
              "      <td>56</td>\n",
              "      <td>TYPE_C</td>\n",
              "      <td>2.0</td>\n",
              "    </tr>\n",
              "    <tr>\n",
              "      <th>4</th>\n",
              "      <td>1343872</td>\n",
              "      <td>5</td>\n",
              "      <td>55</td>\n",
              "      <td>1885</td>\n",
              "      <td>146.50</td>\n",
              "      <td>147.50</td>\n",
              "      <td>0</td>\n",
              "      <td>0</td>\n",
              "      <td>215</td>\n",
              "      <td>Beverages</td>\n",
              "      <td>Thai</td>\n",
              "      <td>647</td>\n",
              "      <td>56</td>\n",
              "      <td>TYPE_C</td>\n",
              "      <td>2.0</td>\n",
              "    </tr>\n",
              "    <tr>\n",
              "      <th>...</th>\n",
              "      <td>...</td>\n",
              "      <td>...</td>\n",
              "      <td>...</td>\n",
              "      <td>...</td>\n",
              "      <td>...</td>\n",
              "      <td>...</td>\n",
              "      <td>...</td>\n",
              "      <td>...</td>\n",
              "      <td>...</td>\n",
              "      <td>...</td>\n",
              "      <td>...</td>\n",
              "      <td>...</td>\n",
              "      <td>...</td>\n",
              "      <td>...</td>\n",
              "      <td>...</td>\n",
              "    </tr>\n",
              "    <tr>\n",
              "      <th>456543</th>\n",
              "      <td>1437396</td>\n",
              "      <td>141</td>\n",
              "      <td>61</td>\n",
              "      <td>2104</td>\n",
              "      <td>583.03</td>\n",
              "      <td>630.53</td>\n",
              "      <td>0</td>\n",
              "      <td>1</td>\n",
              "      <td>13</td>\n",
              "      <td>Fish</td>\n",
              "      <td>Continental</td>\n",
              "      <td>473</td>\n",
              "      <td>77</td>\n",
              "      <td>TYPE_A</td>\n",
              "      <td>4.5</td>\n",
              "    </tr>\n",
              "    <tr>\n",
              "      <th>456544</th>\n",
              "      <td>1060716</td>\n",
              "      <td>142</td>\n",
              "      <td>61</td>\n",
              "      <td>2104</td>\n",
              "      <td>581.03</td>\n",
              "      <td>582.03</td>\n",
              "      <td>0</td>\n",
              "      <td>0</td>\n",
              "      <td>42</td>\n",
              "      <td>Fish</td>\n",
              "      <td>Continental</td>\n",
              "      <td>473</td>\n",
              "      <td>77</td>\n",
              "      <td>TYPE_A</td>\n",
              "      <td>4.5</td>\n",
              "    </tr>\n",
              "    <tr>\n",
              "      <th>456545</th>\n",
              "      <td>1029231</td>\n",
              "      <td>143</td>\n",
              "      <td>61</td>\n",
              "      <td>2104</td>\n",
              "      <td>583.03</td>\n",
              "      <td>581.03</td>\n",
              "      <td>0</td>\n",
              "      <td>0</td>\n",
              "      <td>40</td>\n",
              "      <td>Fish</td>\n",
              "      <td>Continental</td>\n",
              "      <td>473</td>\n",
              "      <td>77</td>\n",
              "      <td>TYPE_A</td>\n",
              "      <td>4.5</td>\n",
              "    </tr>\n",
              "    <tr>\n",
              "      <th>456546</th>\n",
              "      <td>1141147</td>\n",
              "      <td>144</td>\n",
              "      <td>61</td>\n",
              "      <td>2104</td>\n",
              "      <td>582.03</td>\n",
              "      <td>581.03</td>\n",
              "      <td>0</td>\n",
              "      <td>0</td>\n",
              "      <td>53</td>\n",
              "      <td>Fish</td>\n",
              "      <td>Continental</td>\n",
              "      <td>473</td>\n",
              "      <td>77</td>\n",
              "      <td>TYPE_A</td>\n",
              "      <td>4.5</td>\n",
              "    </tr>\n",
              "    <tr>\n",
              "      <th>456547</th>\n",
              "      <td>1443704</td>\n",
              "      <td>145</td>\n",
              "      <td>61</td>\n",
              "      <td>2104</td>\n",
              "      <td>581.03</td>\n",
              "      <td>582.03</td>\n",
              "      <td>0</td>\n",
              "      <td>0</td>\n",
              "      <td>27</td>\n",
              "      <td>Fish</td>\n",
              "      <td>Continental</td>\n",
              "      <td>473</td>\n",
              "      <td>77</td>\n",
              "      <td>TYPE_A</td>\n",
              "      <td>4.5</td>\n",
              "    </tr>\n",
              "  </tbody>\n",
              "</table>\n",
              "<p>456548 rows × 15 columns</p>\n",
              "</div>"
            ],
            "text/plain": [
              "             id  week  center_id  ...  region_code  center_type  op_area\n",
              "0       1379560     1         55  ...           56       TYPE_C      2.0\n",
              "1       1018704     2         55  ...           56       TYPE_C      2.0\n",
              "2       1196273     3         55  ...           56       TYPE_C      2.0\n",
              "3       1116527     4         55  ...           56       TYPE_C      2.0\n",
              "4       1343872     5         55  ...           56       TYPE_C      2.0\n",
              "...         ...   ...        ...  ...          ...          ...      ...\n",
              "456543  1437396   141         61  ...           77       TYPE_A      4.5\n",
              "456544  1060716   142         61  ...           77       TYPE_A      4.5\n",
              "456545  1029231   143         61  ...           77       TYPE_A      4.5\n",
              "456546  1141147   144         61  ...           77       TYPE_A      4.5\n",
              "456547  1443704   145         61  ...           77       TYPE_A      4.5\n",
              "\n",
              "[456548 rows x 15 columns]"
            ]
          },
          "metadata": {},
          "execution_count": 87
        }
      ]
    },
    {
      "cell_type": "markdown",
      "metadata": {
        "id": "yaJ3Qgqnk-k6"
      },
      "source": [
        "####def for feature engineering"
      ]
    },
    {
      "cell_type": "markdown",
      "metadata": {
        "id": "kA1tYnv3jr4g"
      },
      "source": [
        "컬럼 추가: `discount` (할인 여부를 Y, N으로 계산), `difference` (최종가와 기본가 간의 차액 계산)\n"
      ]
    },
    {
      "cell_type": "code",
      "metadata": {
        "id": "3qra8FJRk9YL"
      },
      "source": [
        "def engineering(df):\n",
        "  df = df.copy()\n",
        "  \n",
        "  #컬럼 추가: `discount` (할인 여부를 Y, N으로 계산), `difference` (최종가와 기본가 간의 차액 계산)\n",
        "  df['discount'] = np.where(((df['checkout_price']-df['base_price']).values < 0), 1, 0)\n",
        "  df['difference'] = (df['checkout_price']-df['base_price'])\n",
        "  \n",
        "  return df"
      ],
      "execution_count": 88,
      "outputs": []
    },
    {
      "cell_type": "code",
      "metadata": {
        "colab": {
          "base_uri": "https://localhost:8080/",
          "height": 439
        },
        "id": "dgg-M9hs8YXk",
        "outputId": "6bac1505-fe60-4cee-82f1-21497335d9f9"
      },
      "source": [
        "engineering(train)"
      ],
      "execution_count": 89,
      "outputs": [
        {
          "output_type": "execute_result",
          "data": {
            "text/html": [
              "<div>\n",
              "<style scoped>\n",
              "    .dataframe tbody tr th:only-of-type {\n",
              "        vertical-align: middle;\n",
              "    }\n",
              "\n",
              "    .dataframe tbody tr th {\n",
              "        vertical-align: top;\n",
              "    }\n",
              "\n",
              "    .dataframe thead th {\n",
              "        text-align: right;\n",
              "    }\n",
              "</style>\n",
              "<table border=\"1\" class=\"dataframe\">\n",
              "  <thead>\n",
              "    <tr style=\"text-align: right;\">\n",
              "      <th></th>\n",
              "      <th>id</th>\n",
              "      <th>week</th>\n",
              "      <th>center_id</th>\n",
              "      <th>meal_id</th>\n",
              "      <th>checkout_price</th>\n",
              "      <th>base_price</th>\n",
              "      <th>emailer_for_promotion</th>\n",
              "      <th>homepage_featured</th>\n",
              "      <th>num_orders</th>\n",
              "      <th>category</th>\n",
              "      <th>cuisine</th>\n",
              "      <th>city_code</th>\n",
              "      <th>region_code</th>\n",
              "      <th>center_type</th>\n",
              "      <th>op_area</th>\n",
              "      <th>discount</th>\n",
              "      <th>difference</th>\n",
              "    </tr>\n",
              "  </thead>\n",
              "  <tbody>\n",
              "    <tr>\n",
              "      <th>0</th>\n",
              "      <td>1379560</td>\n",
              "      <td>1</td>\n",
              "      <td>55</td>\n",
              "      <td>1885</td>\n",
              "      <td>136.83</td>\n",
              "      <td>152.29</td>\n",
              "      <td>0</td>\n",
              "      <td>0</td>\n",
              "      <td>177</td>\n",
              "      <td>Beverages</td>\n",
              "      <td>Thai</td>\n",
              "      <td>647</td>\n",
              "      <td>56</td>\n",
              "      <td>TYPE_C</td>\n",
              "      <td>2.0</td>\n",
              "      <td>1</td>\n",
              "      <td>-15.46</td>\n",
              "    </tr>\n",
              "    <tr>\n",
              "      <th>1</th>\n",
              "      <td>1018704</td>\n",
              "      <td>2</td>\n",
              "      <td>55</td>\n",
              "      <td>1885</td>\n",
              "      <td>135.83</td>\n",
              "      <td>152.29</td>\n",
              "      <td>0</td>\n",
              "      <td>0</td>\n",
              "      <td>323</td>\n",
              "      <td>Beverages</td>\n",
              "      <td>Thai</td>\n",
              "      <td>647</td>\n",
              "      <td>56</td>\n",
              "      <td>TYPE_C</td>\n",
              "      <td>2.0</td>\n",
              "      <td>1</td>\n",
              "      <td>-16.46</td>\n",
              "    </tr>\n",
              "    <tr>\n",
              "      <th>2</th>\n",
              "      <td>1196273</td>\n",
              "      <td>3</td>\n",
              "      <td>55</td>\n",
              "      <td>1885</td>\n",
              "      <td>132.92</td>\n",
              "      <td>133.92</td>\n",
              "      <td>0</td>\n",
              "      <td>0</td>\n",
              "      <td>96</td>\n",
              "      <td>Beverages</td>\n",
              "      <td>Thai</td>\n",
              "      <td>647</td>\n",
              "      <td>56</td>\n",
              "      <td>TYPE_C</td>\n",
              "      <td>2.0</td>\n",
              "      <td>1</td>\n",
              "      <td>-1.00</td>\n",
              "    </tr>\n",
              "    <tr>\n",
              "      <th>3</th>\n",
              "      <td>1116527</td>\n",
              "      <td>4</td>\n",
              "      <td>55</td>\n",
              "      <td>1885</td>\n",
              "      <td>135.86</td>\n",
              "      <td>134.86</td>\n",
              "      <td>0</td>\n",
              "      <td>0</td>\n",
              "      <td>163</td>\n",
              "      <td>Beverages</td>\n",
              "      <td>Thai</td>\n",
              "      <td>647</td>\n",
              "      <td>56</td>\n",
              "      <td>TYPE_C</td>\n",
              "      <td>2.0</td>\n",
              "      <td>0</td>\n",
              "      <td>1.00</td>\n",
              "    </tr>\n",
              "    <tr>\n",
              "      <th>4</th>\n",
              "      <td>1343872</td>\n",
              "      <td>5</td>\n",
              "      <td>55</td>\n",
              "      <td>1885</td>\n",
              "      <td>146.50</td>\n",
              "      <td>147.50</td>\n",
              "      <td>0</td>\n",
              "      <td>0</td>\n",
              "      <td>215</td>\n",
              "      <td>Beverages</td>\n",
              "      <td>Thai</td>\n",
              "      <td>647</td>\n",
              "      <td>56</td>\n",
              "      <td>TYPE_C</td>\n",
              "      <td>2.0</td>\n",
              "      <td>1</td>\n",
              "      <td>-1.00</td>\n",
              "    </tr>\n",
              "    <tr>\n",
              "      <th>...</th>\n",
              "      <td>...</td>\n",
              "      <td>...</td>\n",
              "      <td>...</td>\n",
              "      <td>...</td>\n",
              "      <td>...</td>\n",
              "      <td>...</td>\n",
              "      <td>...</td>\n",
              "      <td>...</td>\n",
              "      <td>...</td>\n",
              "      <td>...</td>\n",
              "      <td>...</td>\n",
              "      <td>...</td>\n",
              "      <td>...</td>\n",
              "      <td>...</td>\n",
              "      <td>...</td>\n",
              "      <td>...</td>\n",
              "      <td>...</td>\n",
              "    </tr>\n",
              "    <tr>\n",
              "      <th>456543</th>\n",
              "      <td>1437396</td>\n",
              "      <td>141</td>\n",
              "      <td>61</td>\n",
              "      <td>2104</td>\n",
              "      <td>583.03</td>\n",
              "      <td>630.53</td>\n",
              "      <td>0</td>\n",
              "      <td>1</td>\n",
              "      <td>13</td>\n",
              "      <td>Fish</td>\n",
              "      <td>Continental</td>\n",
              "      <td>473</td>\n",
              "      <td>77</td>\n",
              "      <td>TYPE_A</td>\n",
              "      <td>4.5</td>\n",
              "      <td>1</td>\n",
              "      <td>-47.50</td>\n",
              "    </tr>\n",
              "    <tr>\n",
              "      <th>456544</th>\n",
              "      <td>1060716</td>\n",
              "      <td>142</td>\n",
              "      <td>61</td>\n",
              "      <td>2104</td>\n",
              "      <td>581.03</td>\n",
              "      <td>582.03</td>\n",
              "      <td>0</td>\n",
              "      <td>0</td>\n",
              "      <td>42</td>\n",
              "      <td>Fish</td>\n",
              "      <td>Continental</td>\n",
              "      <td>473</td>\n",
              "      <td>77</td>\n",
              "      <td>TYPE_A</td>\n",
              "      <td>4.5</td>\n",
              "      <td>1</td>\n",
              "      <td>-1.00</td>\n",
              "    </tr>\n",
              "    <tr>\n",
              "      <th>456545</th>\n",
              "      <td>1029231</td>\n",
              "      <td>143</td>\n",
              "      <td>61</td>\n",
              "      <td>2104</td>\n",
              "      <td>583.03</td>\n",
              "      <td>581.03</td>\n",
              "      <td>0</td>\n",
              "      <td>0</td>\n",
              "      <td>40</td>\n",
              "      <td>Fish</td>\n",
              "      <td>Continental</td>\n",
              "      <td>473</td>\n",
              "      <td>77</td>\n",
              "      <td>TYPE_A</td>\n",
              "      <td>4.5</td>\n",
              "      <td>0</td>\n",
              "      <td>2.00</td>\n",
              "    </tr>\n",
              "    <tr>\n",
              "      <th>456546</th>\n",
              "      <td>1141147</td>\n",
              "      <td>144</td>\n",
              "      <td>61</td>\n",
              "      <td>2104</td>\n",
              "      <td>582.03</td>\n",
              "      <td>581.03</td>\n",
              "      <td>0</td>\n",
              "      <td>0</td>\n",
              "      <td>53</td>\n",
              "      <td>Fish</td>\n",
              "      <td>Continental</td>\n",
              "      <td>473</td>\n",
              "      <td>77</td>\n",
              "      <td>TYPE_A</td>\n",
              "      <td>4.5</td>\n",
              "      <td>0</td>\n",
              "      <td>1.00</td>\n",
              "    </tr>\n",
              "    <tr>\n",
              "      <th>456547</th>\n",
              "      <td>1443704</td>\n",
              "      <td>145</td>\n",
              "      <td>61</td>\n",
              "      <td>2104</td>\n",
              "      <td>581.03</td>\n",
              "      <td>582.03</td>\n",
              "      <td>0</td>\n",
              "      <td>0</td>\n",
              "      <td>27</td>\n",
              "      <td>Fish</td>\n",
              "      <td>Continental</td>\n",
              "      <td>473</td>\n",
              "      <td>77</td>\n",
              "      <td>TYPE_A</td>\n",
              "      <td>4.5</td>\n",
              "      <td>1</td>\n",
              "      <td>-1.00</td>\n",
              "    </tr>\n",
              "  </tbody>\n",
              "</table>\n",
              "<p>456548 rows × 17 columns</p>\n",
              "</div>"
            ],
            "text/plain": [
              "             id  week  center_id  ...  op_area  discount  difference\n",
              "0       1379560     1         55  ...      2.0         1      -15.46\n",
              "1       1018704     2         55  ...      2.0         1      -16.46\n",
              "2       1196273     3         55  ...      2.0         1       -1.00\n",
              "3       1116527     4         55  ...      2.0         0        1.00\n",
              "4       1343872     5         55  ...      2.0         1       -1.00\n",
              "...         ...   ...        ...  ...      ...       ...         ...\n",
              "456543  1437396   141         61  ...      4.5         1      -47.50\n",
              "456544  1060716   142         61  ...      4.5         1       -1.00\n",
              "456545  1029231   143         61  ...      4.5         0        2.00\n",
              "456546  1141147   144         61  ...      4.5         0        1.00\n",
              "456547  1443704   145         61  ...      4.5         1       -1.00\n",
              "\n",
              "[456548 rows x 17 columns]"
            ]
          },
          "metadata": {},
          "execution_count": 89
        }
      ]
    },
    {
      "cell_type": "code",
      "metadata": {
        "colab": {
          "base_uri": "https://localhost:8080/",
          "height": 439
        },
        "id": "mQGS05HX8dcD",
        "outputId": "bd4146cc-80c8-4098-f955-e63012de87e0"
      },
      "source": [
        "engineering(test)"
      ],
      "execution_count": 90,
      "outputs": [
        {
          "output_type": "execute_result",
          "data": {
            "text/html": [
              "<div>\n",
              "<style scoped>\n",
              "    .dataframe tbody tr th:only-of-type {\n",
              "        vertical-align: middle;\n",
              "    }\n",
              "\n",
              "    .dataframe tbody tr th {\n",
              "        vertical-align: top;\n",
              "    }\n",
              "\n",
              "    .dataframe thead th {\n",
              "        text-align: right;\n",
              "    }\n",
              "</style>\n",
              "<table border=\"1\" class=\"dataframe\">\n",
              "  <thead>\n",
              "    <tr style=\"text-align: right;\">\n",
              "      <th></th>\n",
              "      <th>id</th>\n",
              "      <th>week</th>\n",
              "      <th>center_id</th>\n",
              "      <th>meal_id</th>\n",
              "      <th>checkout_price</th>\n",
              "      <th>base_price</th>\n",
              "      <th>emailer_for_promotion</th>\n",
              "      <th>homepage_featured</th>\n",
              "      <th>category</th>\n",
              "      <th>cuisine</th>\n",
              "      <th>city_code</th>\n",
              "      <th>region_code</th>\n",
              "      <th>center_type</th>\n",
              "      <th>op_area</th>\n",
              "      <th>discount</th>\n",
              "      <th>difference</th>\n",
              "    </tr>\n",
              "  </thead>\n",
              "  <tbody>\n",
              "    <tr>\n",
              "      <th>0</th>\n",
              "      <td>1028232</td>\n",
              "      <td>146</td>\n",
              "      <td>55</td>\n",
              "      <td>1885</td>\n",
              "      <td>158.11</td>\n",
              "      <td>159.11</td>\n",
              "      <td>0</td>\n",
              "      <td>0</td>\n",
              "      <td>Beverages</td>\n",
              "      <td>Thai</td>\n",
              "      <td>647</td>\n",
              "      <td>56</td>\n",
              "      <td>TYPE_C</td>\n",
              "      <td>2.0</td>\n",
              "      <td>1</td>\n",
              "      <td>-1.0</td>\n",
              "    </tr>\n",
              "    <tr>\n",
              "      <th>1</th>\n",
              "      <td>1262649</td>\n",
              "      <td>147</td>\n",
              "      <td>55</td>\n",
              "      <td>1885</td>\n",
              "      <td>159.11</td>\n",
              "      <td>159.11</td>\n",
              "      <td>0</td>\n",
              "      <td>0</td>\n",
              "      <td>Beverages</td>\n",
              "      <td>Thai</td>\n",
              "      <td>647</td>\n",
              "      <td>56</td>\n",
              "      <td>TYPE_C</td>\n",
              "      <td>2.0</td>\n",
              "      <td>0</td>\n",
              "      <td>0.0</td>\n",
              "    </tr>\n",
              "    <tr>\n",
              "      <th>2</th>\n",
              "      <td>1453211</td>\n",
              "      <td>149</td>\n",
              "      <td>55</td>\n",
              "      <td>1885</td>\n",
              "      <td>157.14</td>\n",
              "      <td>158.14</td>\n",
              "      <td>0</td>\n",
              "      <td>0</td>\n",
              "      <td>Beverages</td>\n",
              "      <td>Thai</td>\n",
              "      <td>647</td>\n",
              "      <td>56</td>\n",
              "      <td>TYPE_C</td>\n",
              "      <td>2.0</td>\n",
              "      <td>1</td>\n",
              "      <td>-1.0</td>\n",
              "    </tr>\n",
              "    <tr>\n",
              "      <th>3</th>\n",
              "      <td>1262599</td>\n",
              "      <td>150</td>\n",
              "      <td>55</td>\n",
              "      <td>1885</td>\n",
              "      <td>159.14</td>\n",
              "      <td>157.14</td>\n",
              "      <td>0</td>\n",
              "      <td>0</td>\n",
              "      <td>Beverages</td>\n",
              "      <td>Thai</td>\n",
              "      <td>647</td>\n",
              "      <td>56</td>\n",
              "      <td>TYPE_C</td>\n",
              "      <td>2.0</td>\n",
              "      <td>0</td>\n",
              "      <td>2.0</td>\n",
              "    </tr>\n",
              "    <tr>\n",
              "      <th>4</th>\n",
              "      <td>1495848</td>\n",
              "      <td>151</td>\n",
              "      <td>55</td>\n",
              "      <td>1885</td>\n",
              "      <td>160.11</td>\n",
              "      <td>159.11</td>\n",
              "      <td>0</td>\n",
              "      <td>0</td>\n",
              "      <td>Beverages</td>\n",
              "      <td>Thai</td>\n",
              "      <td>647</td>\n",
              "      <td>56</td>\n",
              "      <td>TYPE_C</td>\n",
              "      <td>2.0</td>\n",
              "      <td>0</td>\n",
              "      <td>1.0</td>\n",
              "    </tr>\n",
              "    <tr>\n",
              "      <th>...</th>\n",
              "      <td>...</td>\n",
              "      <td>...</td>\n",
              "      <td>...</td>\n",
              "      <td>...</td>\n",
              "      <td>...</td>\n",
              "      <td>...</td>\n",
              "      <td>...</td>\n",
              "      <td>...</td>\n",
              "      <td>...</td>\n",
              "      <td>...</td>\n",
              "      <td>...</td>\n",
              "      <td>...</td>\n",
              "      <td>...</td>\n",
              "      <td>...</td>\n",
              "      <td>...</td>\n",
              "      <td>...</td>\n",
              "    </tr>\n",
              "    <tr>\n",
              "      <th>32568</th>\n",
              "      <td>1412025</td>\n",
              "      <td>146</td>\n",
              "      <td>61</td>\n",
              "      <td>2104</td>\n",
              "      <td>583.03</td>\n",
              "      <td>581.03</td>\n",
              "      <td>0</td>\n",
              "      <td>0</td>\n",
              "      <td>Fish</td>\n",
              "      <td>Continental</td>\n",
              "      <td>473</td>\n",
              "      <td>77</td>\n",
              "      <td>TYPE_A</td>\n",
              "      <td>4.5</td>\n",
              "      <td>0</td>\n",
              "      <td>2.0</td>\n",
              "    </tr>\n",
              "    <tr>\n",
              "      <th>32569</th>\n",
              "      <td>1287019</td>\n",
              "      <td>147</td>\n",
              "      <td>61</td>\n",
              "      <td>2104</td>\n",
              "      <td>582.03</td>\n",
              "      <td>582.03</td>\n",
              "      <td>0</td>\n",
              "      <td>1</td>\n",
              "      <td>Fish</td>\n",
              "      <td>Continental</td>\n",
              "      <td>473</td>\n",
              "      <td>77</td>\n",
              "      <td>TYPE_A</td>\n",
              "      <td>4.5</td>\n",
              "      <td>0</td>\n",
              "      <td>0.0</td>\n",
              "    </tr>\n",
              "    <tr>\n",
              "      <th>32570</th>\n",
              "      <td>1396176</td>\n",
              "      <td>149</td>\n",
              "      <td>61</td>\n",
              "      <td>2104</td>\n",
              "      <td>629.53</td>\n",
              "      <td>629.53</td>\n",
              "      <td>0</td>\n",
              "      <td>0</td>\n",
              "      <td>Fish</td>\n",
              "      <td>Continental</td>\n",
              "      <td>473</td>\n",
              "      <td>77</td>\n",
              "      <td>TYPE_A</td>\n",
              "      <td>4.5</td>\n",
              "      <td>0</td>\n",
              "      <td>0.0</td>\n",
              "    </tr>\n",
              "    <tr>\n",
              "      <th>32571</th>\n",
              "      <td>1331977</td>\n",
              "      <td>150</td>\n",
              "      <td>61</td>\n",
              "      <td>2104</td>\n",
              "      <td>629.53</td>\n",
              "      <td>629.53</td>\n",
              "      <td>0</td>\n",
              "      <td>0</td>\n",
              "      <td>Fish</td>\n",
              "      <td>Continental</td>\n",
              "      <td>473</td>\n",
              "      <td>77</td>\n",
              "      <td>TYPE_A</td>\n",
              "      <td>4.5</td>\n",
              "      <td>0</td>\n",
              "      <td>0.0</td>\n",
              "    </tr>\n",
              "    <tr>\n",
              "      <th>32572</th>\n",
              "      <td>1017414</td>\n",
              "      <td>152</td>\n",
              "      <td>61</td>\n",
              "      <td>2104</td>\n",
              "      <td>630.53</td>\n",
              "      <td>631.53</td>\n",
              "      <td>0</td>\n",
              "      <td>0</td>\n",
              "      <td>Fish</td>\n",
              "      <td>Continental</td>\n",
              "      <td>473</td>\n",
              "      <td>77</td>\n",
              "      <td>TYPE_A</td>\n",
              "      <td>4.5</td>\n",
              "      <td>1</td>\n",
              "      <td>-1.0</td>\n",
              "    </tr>\n",
              "  </tbody>\n",
              "</table>\n",
              "<p>32573 rows × 16 columns</p>\n",
              "</div>"
            ],
            "text/plain": [
              "            id  week  center_id  ...  op_area  discount  difference\n",
              "0      1028232   146         55  ...      2.0         1        -1.0\n",
              "1      1262649   147         55  ...      2.0         0         0.0\n",
              "2      1453211   149         55  ...      2.0         1        -1.0\n",
              "3      1262599   150         55  ...      2.0         0         2.0\n",
              "4      1495848   151         55  ...      2.0         0         1.0\n",
              "...        ...   ...        ...  ...      ...       ...         ...\n",
              "32568  1412025   146         61  ...      4.5         0         2.0\n",
              "32569  1287019   147         61  ...      4.5         0         0.0\n",
              "32570  1396176   149         61  ...      4.5         0         0.0\n",
              "32571  1331977   150         61  ...      4.5         0         0.0\n",
              "32572  1017414   152         61  ...      4.5         1        -1.0\n",
              "\n",
              "[32573 rows x 16 columns]"
            ]
          },
          "metadata": {},
          "execution_count": 90
        }
      ]
    },
    {
      "cell_type": "markdown",
      "metadata": {
        "id": "cCpRNMT4EMf7"
      },
      "source": [
        "#### 3. target 상위 5%를 제거"
      ]
    },
    {
      "cell_type": "code",
      "metadata": {
        "id": "6p7vBlwffM9N"
      },
      "source": [
        "train[target] = train[train['num_orders'] < np.percentile(train['num_orders'], 95)]['num_orders']"
      ],
      "execution_count": 91,
      "outputs": []
    },
    {
      "cell_type": "code",
      "metadata": {
        "id": "AUjBT8TAfEVY"
      },
      "source": [
        "train = train.dropna(axis=0)"
      ],
      "execution_count": 92,
      "outputs": []
    },
    {
      "cell_type": "code",
      "metadata": {
        "colab": {
          "base_uri": "https://localhost:8080/"
        },
        "id": "IE-alRXqfIKj",
        "outputId": "71694167-7df3-4868-ec45-5df8a30f3d06"
      },
      "source": [
        "train[target].describe()"
      ],
      "execution_count": 93,
      "outputs": [
        {
          "output_type": "execute_result",
          "data": {
            "text/plain": [
              "count    433557.000000\n",
              "mean        196.338947\n",
              "std         191.384275\n",
              "min          13.000000\n",
              "25%          53.000000\n",
              "50%         123.000000\n",
              "75%         284.000000\n",
              "max         877.000000\n",
              "Name: num_orders, dtype: float64"
            ]
          },
          "metadata": {},
          "execution_count": 93
        }
      ]
    },
    {
      "cell_type": "code",
      "metadata": {
        "colab": {
          "base_uri": "https://localhost:8080/"
        },
        "id": "D5Zk0dQael2M",
        "outputId": "16e84e38-49db-46c1-ba40-018aaef2e652"
      },
      "source": [
        "#이상치 제거 후의 분포 확인\n",
        "sns.displot(train[target], kde=True);\n",
        "plt.axvline(196, color='red')"
      ],
      "execution_count": 94,
      "outputs": [
        {
          "output_type": "execute_result",
          "data": {
            "text/plain": [
              "<matplotlib.lines.Line2D at 0x7faabce2fa90>"
            ]
          },
          "metadata": {},
          "execution_count": 94
        }
      ]
    },
    {
      "cell_type": "markdown",
      "metadata": {
        "id": "Sn7CHHZAesuL"
      },
      "source": [
        "\n",
        "로그 변환"
      ]
    },
    {
      "cell_type": "code",
      "metadata": {
        "id": "Bfd6ad6LetnK"
      },
      "source": [
        "plots = pd.DataFrame()\n",
        "plots['original'] = train[target]\n",
        "plots['transformed'] = np.log1p(train[target])\n",
        "plots['backtoOriginal'] = np.expm1(np.log1p(train[target]))\n",
        "\n",
        "fig, ax = plt.subplots(1, 3, figsize = (15, 5))\n",
        "sns.histplot(plots['original'], ax = ax[0]);\n",
        "sns.histplot(plots['transformed'], ax = ax[1]);\n",
        "sns.histplot(plots['backtoOriginal'], ax = ax[2]);"
      ],
      "execution_count": 95,
      "outputs": []
    },
    {
      "cell_type": "markdown",
      "metadata": {
        "id": "RCDqf0repcHo"
      },
      "source": [
        "### Data Split\n",
        "hold-out validation: train data set을 valid/train으로 임의로 분리\n"
      ]
    },
    {
      "cell_type": "code",
      "metadata": {
        "id": "ahpw7GI9AqFW"
      },
      "source": [
        "target = 'num_orders'\n",
        "data = train[train[target].notna()]\n",
        "\n",
        "train, val = train_test_split(data, test_size = 0.2, random_state = 2)\n",
        "features = train.drop(columns = [target]).columns"
      ],
      "execution_count": 96,
      "outputs": []
    },
    {
      "cell_type": "code",
      "metadata": {
        "id": "Mw4QNVpkUY9o"
      },
      "source": [
        "X_test = test"
      ],
      "execution_count": 97,
      "outputs": []
    },
    {
      "cell_type": "code",
      "metadata": {
        "id": "9cB_YyGZpaSr"
      },
      "source": [
        "X_train = train[features]\n",
        "y_train = train[target]\n",
        "X_val = val[features]\n",
        "y_val = val[target]"
      ],
      "execution_count": 98,
      "outputs": []
    },
    {
      "cell_type": "markdown",
      "metadata": {
        "id": "MPlb2plYzMdg"
      },
      "source": [
        "*stratify = target을 쓸 수 없었던 이유가 무엇일까?*\n",
        "\n",
        "참고: https://stackoverflow.com/questions/43179429/scikit-learn-error-the-least-populated-class-in-y-has-only-1-member"
      ]
    },
    {
      "cell_type": "code",
      "metadata": {
        "id": "qgokbpCaqS4Q",
        "colab": {
          "base_uri": "https://localhost:8080/"
        },
        "outputId": "3e8c5152-4378-43c8-e9a2-d8772e503a08"
      },
      "source": [
        "X_train.shape, X_val.shape, y_train.shape, y_val.shape"
      ],
      "execution_count": 99,
      "outputs": [
        {
          "output_type": "execute_result",
          "data": {
            "text/plain": [
              "((346845, 14), (86712, 14), (346845,), (86712,))"
            ]
          },
          "metadata": {},
          "execution_count": 99
        }
      ]
    },
    {
      "cell_type": "markdown",
      "metadata": {
        "id": "eN2KCo6FIU3N"
      },
      "source": [
        "k-fold cross validation"
      ]
    },
    {
      "cell_type": "code",
      "metadata": {
        "id": "7vm1xGJ-RZaj",
        "colab": {
          "base_uri": "https://localhost:8080/"
        },
        "outputId": "15125e13-ea42-45fc-a7ea-194ba3741ea9"
      },
      "source": [
        "pipe = make_pipeline(\n",
        "    TargetEncoder(min_samples_leaf=1, smoothing=1), \n",
        "    SimpleImputer(strategy='median'), \n",
        "    RandomForestRegressor(max_depth = 10, n_jobs=-1, random_state=2)\n",
        ")\n",
        "\n",
        "k = 3\n",
        "\n",
        "scores = cross_val_score(pipe, X_train, y_train, cv=k, \n",
        "                         scoring='neg_mean_absolute_error')\n",
        "\n",
        "print(f'MAE for {k} folds:', -scores)"
      ],
      "execution_count": 100,
      "outputs": [
        {
          "output_type": "stream",
          "name": "stdout",
          "text": [
            "MAE for 3 folds: [71.66696109 71.99252591 71.61012067]\n"
          ]
        }
      ]
    },
    {
      "cell_type": "code",
      "metadata": {
        "id": "-VzD0vrTwJif",
        "colab": {
          "base_uri": "https://localhost:8080/"
        },
        "outputId": "f9092242-bc17-4357-fdb4-b7f139b9548d"
      },
      "source": [
        "-scores.mean(), scores.std()"
      ],
      "execution_count": 101,
      "outputs": [
        {
          "output_type": "execute_result",
          "data": {
            "text/plain": [
              "(71.75653589126183, 0.16847586252360416)"
            ]
          },
          "metadata": {},
          "execution_count": 101
        }
      ]
    },
    {
      "cell_type": "markdown",
      "metadata": {
        "id": "WDwht9LUnKQD"
      },
      "source": [
        "###기준모델과 평가지표 설정"
      ]
    },
    {
      "cell_type": "markdown",
      "metadata": {
        "id": "D3Pm1I8hu76G"
      },
      "source": [
        "회귀모델이므로 baseline을 target의 평균으로 설정"
      ]
    },
    {
      "cell_type": "code",
      "metadata": {
        "id": "gYE_nj8lnJD9",
        "colab": {
          "base_uri": "https://localhost:8080/"
        },
        "outputId": "dcdbe69d-da45-44ac-9ced-11cd6860fbdc"
      },
      "source": [
        "predict = train[target].mean()\n",
        "predict"
      ],
      "execution_count": 102,
      "outputs": [
        {
          "output_type": "execute_result",
          "data": {
            "text/plain": [
              "196.25945306981504"
            ]
          },
          "metadata": {},
          "execution_count": 102
        }
      ]
    },
    {
      "cell_type": "code",
      "metadata": {
        "id": "IOqzWTicx7Lr",
        "colab": {
          "base_uri": "https://localhost:8080/"
        },
        "outputId": "61bc17c9-4cb0-4703-aed6-03f65ea2d437"
      },
      "source": [
        "#훈련 에러\n",
        "y_pred_train = [predict] * len(y_train)\n",
        "MAE_train = mean_absolute_error(y_train, y_pred_train)\n",
        "MAE_train "
      ],
      "execution_count": 103,
      "outputs": [
        {
          "output_type": "execute_result",
          "data": {
            "text/plain": [
              "150.13046297451018"
            ]
          },
          "metadata": {},
          "execution_count": 103
        }
      ]
    },
    {
      "cell_type": "code",
      "metadata": {
        "id": "RqCBPScjyGto",
        "colab": {
          "base_uri": "https://localhost:8080/"
        },
        "outputId": "70e98202-5ae8-4cde-ce69-57709954494a"
      },
      "source": [
        "#검증 에러\n",
        "y_pred_val = [predict] * len(y_val)\n",
        "MAE_val = mean_absolute_error(y_val, y_pred_val)\n",
        "MAE_val"
      ],
      "execution_count": 104,
      "outputs": [
        {
          "output_type": "execute_result",
          "data": {
            "text/plain": [
              "149.9609293712721"
            ]
          },
          "metadata": {},
          "execution_count": 104
        }
      ]
    },
    {
      "cell_type": "markdown",
      "metadata": {
        "id": "ISDhs0cEAAoM"
      },
      "source": [
        "### modeling"
      ]
    },
    {
      "cell_type": "markdown",
      "metadata": {
        "id": "7_WTfprOFtGb"
      },
      "source": [
        "####(1) target encoding "
      ]
    },
    {
      "cell_type": "code",
      "metadata": {
        "id": "fmzkfzpiBD1h"
      },
      "source": [
        "enc = TargetEncoder(min_samples_leaf=1, smoothing=1000) \n",
        "X_train_encoded = enc.fit_transform(X_train, y_train)\n",
        "X_val_encoded = enc.fit_transform(X_val, y_val)"
      ],
      "execution_count": 105,
      "outputs": []
    },
    {
      "cell_type": "code",
      "metadata": {
        "id": "gcvRzsgfyo7V"
      },
      "source": [
        "X_test_encoded = enc.transform(X_test)"
      ],
      "execution_count": 106,
      "outputs": []
    },
    {
      "cell_type": "markdown",
      "metadata": {
        "id": "RK7Bpo72AXER"
      },
      "source": [
        "####(2) 표준화 "
      ]
    },
    {
      "cell_type": "code",
      "metadata": {
        "id": "mKdbWe_yKRMI"
      },
      "source": [
        "scaler = StandardScaler()"
      ],
      "execution_count": 107,
      "outputs": []
    },
    {
      "cell_type": "code",
      "metadata": {
        "id": "vvxLkK7gKTWg"
      },
      "source": [
        "X_train_scaled = scaler.fit_transform(X_train_encoded)\n",
        "X_val_scaled = scaler.transform(X_val_encoded)\n",
        "X_test_scaled = scaler.transform(X_test_encoded)"
      ],
      "execution_count": 108,
      "outputs": []
    },
    {
      "cell_type": "code",
      "metadata": {
        "id": "TQ69cyyIx9qC",
        "colab": {
          "base_uri": "https://localhost:8080/"
        },
        "outputId": "f7b0500a-8a85-471c-e90d-0683c5892957"
      },
      "source": [
        "X_train_scaled, X_val_scaled, X_test_scaled"
      ],
      "execution_count": 109,
      "outputs": [
        {
          "output_type": "execute_result",
          "data": {
            "text/plain": [
              "(array([[ 0.75216688,  0.19448886, -1.01707454, ..., -0.02904744,\n",
              "          1.5760768 ,  0.32851315],\n",
              "        [ 1.1485452 , -1.29653205,  0.22739983, ..., -1.26470811,\n",
              "          0.03393515, -0.13802335],\n",
              "        [ 1.71846676, -0.47887542, -0.20925785, ..., -1.26470811,\n",
              "          0.03393515, -0.04471605],\n",
              "        ...,\n",
              "        [-0.32222861, -0.31053435,  1.01338364, ...,  1.15044684,\n",
              "          0.03393515, -0.13802335],\n",
              "        [-1.60108645,  1.68550978,  0.55489308, ..., -0.02904744,\n",
              "          1.5760768 ,  0.32851315],\n",
              "        [ 1.15824422,  0.17044014, -0.5367511 , ...,  1.15044684,\n",
              "         -1.49770336, -0.23133065]]),\n",
              " array([[ 0.66315756, -0.50292415,  1.31904401, ...,  1.15044684,\n",
              "          1.37740499, -0.23133065],\n",
              "        [ 1.11465404, -1.39272695,  1.71203591, ..., -1.26470811,\n",
              "          1.37740499, -0.13802335],\n",
              "        [-0.09856913, -1.29653205, -0.88607724, ...,  1.15044684,\n",
              "          1.37740499, -0.13802335],\n",
              "        ...,\n",
              "        [ 1.08336776,  1.18048657, -0.60224975, ..., -0.02904744,\n",
              "         -1.49644122, -1.91086205],\n",
              "        [-0.31140727,  0.74760953, -0.64591552, ..., -0.02904744,\n",
              "          0.13700398, -0.23133065],\n",
              "        [ 1.51074831, -1.5370193 ,  0.94788498, ..., -0.02904744,\n",
              "          0.13700398, -1.25771095]]),\n",
              " array([[-1.53813979,  1.70955851, -0.60224975, ..., -0.02904744,\n",
              "         -1.49644122, -1.91086205],\n",
              "        [ 0.08587167,  1.73360723, -0.60224975, ..., -0.02904744,\n",
              "         -1.49644122, -1.91086205],\n",
              "        [ 1.40606121,  1.78170468, -0.60224975, ..., -0.02904744,\n",
              "         -1.49644122, -1.91086205],\n",
              "        ...,\n",
              "        [ 1.01092991,  1.78170468, -0.47125245, ...,  1.15044684,\n",
              "          0.13700398,  0.42182045],\n",
              "        [ 0.56616732,  1.8057534 , -0.47125245, ...,  1.15044684,\n",
              "          0.13700398,  0.42182045],\n",
              "        [-1.61308553,  1.85385085, -0.47125245, ...,  1.15044684,\n",
              "          0.13700398,  0.42182045]]))"
            ]
          },
          "metadata": {},
          "execution_count": 109
        }
      ]
    },
    {
      "cell_type": "markdown",
      "metadata": {
        "id": "0zgIRigS_-ZP"
      },
      "source": [
        "#### RF regression"
      ]
    },
    {
      "cell_type": "code",
      "metadata": {
        "id": "nwTCyJhPASrr",
        "colab": {
          "base_uri": "https://localhost:8080/"
        },
        "outputId": "53d20d54-48ae-44bd-f514-22511ab433ae"
      },
      "source": [
        "pipe_RF_reg = make_pipeline(\n",
        "    SimpleImputer(), \n",
        "    RandomForestRegressor(random_state = 2, n_jobs=-1, oob_score=True)\n",
        ")\n",
        "\n",
        "pipe_RF_reg.fit(X_train_scaled, y_train)\n",
        "print('검증 정확도', pipe_RF_reg.score(X_val_scaled, y_val))"
      ],
      "execution_count": 110,
      "outputs": [
        {
          "output_type": "stream",
          "name": "stdout",
          "text": [
            "검증 정확도 0.8225023762890994\n"
          ]
        }
      ]
    },
    {
      "cell_type": "code",
      "metadata": {
        "id": "CYyz2H482VjQ",
        "colab": {
          "base_uri": "https://localhost:8080/"
        },
        "outputId": "f3a32dcd-a041-446c-84c4-8500c4365fda"
      },
      "source": [
        "y_pred = pipe_RF_reg.predict(X_train_scaled)\n",
        "MAE = mean_absolute_error(y_train, y_pred)\n",
        "print(f'훈련 에러: {MAE:.2f}')"
      ],
      "execution_count": 111,
      "outputs": [
        {
          "output_type": "stream",
          "name": "stdout",
          "text": [
            "훈련 에러: 19.62\n"
          ]
        }
      ]
    },
    {
      "cell_type": "code",
      "metadata": {
        "id": "wxgj5C1p157k",
        "colab": {
          "base_uri": "https://localhost:8080/"
        },
        "outputId": "0c752ed7-b409-434a-9c7a-27f6d24c99fb"
      },
      "source": [
        "y_pred = pipe_RF_reg.predict(X_val_scaled)\n",
        "MAE = mean_absolute_error(y_val, y_pred)\n",
        "print(f'검증 에러: {MAE:.2f}')"
      ],
      "execution_count": 112,
      "outputs": [
        {
          "output_type": "stream",
          "name": "stdout",
          "text": [
            "검증 에러: 54.30\n"
          ]
        }
      ]
    },
    {
      "cell_type": "markdown",
      "metadata": {
        "id": "UByUltTHL7vc"
      },
      "source": [
        "### decision tree "
      ]
    },
    {
      "cell_type": "code",
      "metadata": {
        "id": "HtoUav4OL93Y",
        "colab": {
          "base_uri": "https://localhost:8080/"
        },
        "outputId": "249e628e-6c8e-4353-b40d-de44359e8bac"
      },
      "source": [
        "pipe_dc = make_pipeline(\n",
        "    SimpleImputer(), \n",
        "    DecisionTreeRegressor()\n",
        ")\n",
        "\n",
        "pipe_dc.fit(X_train_scaled, y_train)\n",
        "print('검증 정확도', pipe_dc.score(X_val_scaled, y_val))"
      ],
      "execution_count": 113,
      "outputs": [
        {
          "output_type": "stream",
          "name": "stdout",
          "text": [
            "검증 정확도 0.664734680245298\n"
          ]
        }
      ]
    },
    {
      "cell_type": "code",
      "metadata": {
        "colab": {
          "base_uri": "https://localhost:8080/"
        },
        "id": "HKSUt_LwcmN3",
        "outputId": "35c61946-6cb8-4646-9b23-8a5dbfa3cb9f"
      },
      "source": [
        "y_pred = pipe_dc.predict(X_train_scaled)\n",
        "MAE = mean_absolute_error(y_train, y_pred)\n",
        "print(f'훈련 에러: {MAE:.2f}')"
      ],
      "execution_count": 114,
      "outputs": [
        {
          "output_type": "stream",
          "name": "stdout",
          "text": [
            "훈련 에러: 0.00\n"
          ]
        }
      ]
    },
    {
      "cell_type": "code",
      "metadata": {
        "colab": {
          "base_uri": "https://localhost:8080/"
        },
        "id": "LPDzvNhqcpRW",
        "outputId": "875c9e2c-d35d-4a5f-ff3b-a593b7628247"
      },
      "source": [
        "y_pred = pipe_dc.predict(X_val_scaled)\n",
        "MAE = mean_absolute_error(y_val, y_pred)\n",
        "print(f'검증 에러: {MAE:.2f}')"
      ],
      "execution_count": 115,
      "outputs": [
        {
          "output_type": "stream",
          "name": "stdout",
          "text": [
            "검증 에러: 73.34\n"
          ]
        }
      ]
    },
    {
      "cell_type": "markdown",
      "metadata": {
        "id": "A03Ymg_nL_C2"
      },
      "source": [
        "### Gradient boosting"
      ]
    },
    {
      "cell_type": "code",
      "metadata": {
        "id": "zkLdsz2iTNHU",
        "colab": {
          "base_uri": "https://localhost:8080/"
        },
        "outputId": "e0b62fbb-a815-434c-861f-e04780b2dde4"
      },
      "source": [
        "pipe_gb = make_pipeline(\n",
        "    SimpleImputer(), \n",
        "    XGBRegressor()\n",
        ")\n",
        "\n",
        "pipe_gb.fit(X_train_scaled, y_train)\n",
        "print('검증 정확도', pipe_gb.score(X_val_scaled, y_val))"
      ],
      "execution_count": 116,
      "outputs": [
        {
          "output_type": "stream",
          "name": "stdout",
          "text": [
            "[15:36:15] WARNING: /workspace/src/objective/regression_obj.cu:152: reg:linear is now deprecated in favor of reg:squarederror.\n",
            "검증 정확도 0.6204187246978283\n"
          ]
        }
      ]
    },
    {
      "cell_type": "code",
      "metadata": {
        "colab": {
          "base_uri": "https://localhost:8080/"
        },
        "id": "2YEPKozFcs2l",
        "outputId": "e3ac933d-fb5e-44ab-8f43-439409d12038"
      },
      "source": [
        "y_pred = pipe_gb.predict(X_train_scaled)\n",
        "MAE = mean_absolute_error(y_train, y_pred)\n",
        "print(f'훈련 에러: {MAE:.2f}')"
      ],
      "execution_count": 117,
      "outputs": [
        {
          "output_type": "stream",
          "name": "stdout",
          "text": [
            "훈련 에러: 82.44\n"
          ]
        }
      ]
    },
    {
      "cell_type": "code",
      "metadata": {
        "colab": {
          "base_uri": "https://localhost:8080/"
        },
        "id": "4juRUrGOcuQR",
        "outputId": "6bb6e19d-b53c-4d8c-84d0-19f1bcc797fd"
      },
      "source": [
        "y_pred = pipe_gb.predict(X_val_scaled)\n",
        "MAE = mean_absolute_error(y_val, y_pred)\n",
        "print(f'검증 에러: {MAE:.2f}')"
      ],
      "execution_count": 118,
      "outputs": [
        {
          "output_type": "stream",
          "name": "stdout",
          "text": [
            "검증 에러: 82.95\n"
          ]
        }
      ]
    },
    {
      "cell_type": "markdown",
      "metadata": {
        "id": "XaNRjcDA_3ZK"
      },
      "source": [
        "### linear regression"
      ]
    },
    {
      "cell_type": "code",
      "metadata": {
        "id": "o77g4aESXZ3s",
        "colab": {
          "base_uri": "https://localhost:8080/"
        },
        "outputId": "c938f986-5653-43d8-b4e5-e7120b464c96"
      },
      "source": [
        "pipe_lr = make_pipeline(\n",
        "    TargetEncoder(), \n",
        "    SimpleImputer(), \n",
        "    LinearRegression(n_jobs=-1)\n",
        ")\n",
        "pipe_lr.fit(X_train_scaled, y_train)\n",
        "print('검증세트 정확도', pipe_lr.score(X_val_scaled, y_val))"
      ],
      "execution_count": 119,
      "outputs": [
        {
          "output_type": "stream",
          "name": "stdout",
          "text": [
            "검증세트 정확도 0.42857869546452126\n"
          ]
        }
      ]
    },
    {
      "cell_type": "code",
      "metadata": {
        "id": "Jibd-FnBAGj9",
        "colab": {
          "base_uri": "https://localhost:8080/"
        },
        "outputId": "49ea1554-fb37-4900-e58d-c38092854f98"
      },
      "source": [
        "y_pred = pipe_lr.predict(X_train_scaled)\n",
        "MAE = mean_absolute_error(y_train, y_pred)\n",
        "print(f'훈련 에러: {MAE:.2f}')"
      ],
      "execution_count": 120,
      "outputs": [
        {
          "output_type": "stream",
          "name": "stdout",
          "text": [
            "훈련 에러: 106.34\n"
          ]
        }
      ]
    },
    {
      "cell_type": "code",
      "metadata": {
        "id": "7V-ymdI1RFFj",
        "colab": {
          "base_uri": "https://localhost:8080/"
        },
        "outputId": "54b1ca6c-c685-46fe-80e4-8681a11fb97a"
      },
      "source": [
        "y_pred = pipe_lr.predict(X_val_scaled)\n",
        "MAE = mean_absolute_error(y_val, y_pred)\n",
        "print(f'검증 에러: {MAE:.2f}')"
      ],
      "execution_count": 121,
      "outputs": [
        {
          "output_type": "stream",
          "name": "stdout",
          "text": [
            "검증 에러: 106.57\n"
          ]
        }
      ]
    },
    {
      "cell_type": "markdown",
      "metadata": {
        "id": "v4QvQK0bALNt"
      },
      "source": [
        "### ridge Regression"
      ]
    },
    {
      "cell_type": "code",
      "metadata": {
        "id": "cTwseoDRAJmp",
        "colab": {
          "base_uri": "https://localhost:8080/"
        },
        "outputId": "4b279b28-bc85-4ed5-c281-89a011391232"
      },
      "source": [
        "pipe_ridge = make_pipeline(\n",
        "    SimpleImputer(), \n",
        "    RidgeCV()\n",
        ")\n",
        "\n",
        "pipe_ridge.fit(X_train_scaled, y_train)\n",
        "print('검증 정확도', pipe_ridge.score(X_val_scaled, y_val))"
      ],
      "execution_count": 122,
      "outputs": [
        {
          "output_type": "stream",
          "name": "stdout",
          "text": [
            "검증 정확도 0.4285785479092562\n"
          ]
        }
      ]
    },
    {
      "cell_type": "code",
      "metadata": {
        "id": "D3qJUS_k750V",
        "colab": {
          "base_uri": "https://localhost:8080/"
        },
        "outputId": "fc726a7d-e010-4583-80e5-4f078cefd660"
      },
      "source": [
        "y_pred = pipe_ridge.predict(X_train_scaled)\n",
        "MAE = mean_absolute_error(y_train, y_pred)\n",
        "print(f'훈련 에러: {MAE:.2f}')"
      ],
      "execution_count": 123,
      "outputs": [
        {
          "output_type": "stream",
          "name": "stdout",
          "text": [
            "훈련 에러: 106.34\n"
          ]
        }
      ]
    },
    {
      "cell_type": "code",
      "metadata": {
        "id": "fso45WJE6dtk",
        "colab": {
          "base_uri": "https://localhost:8080/"
        },
        "outputId": "4fabde0a-fc11-422e-ed8b-cf3298f3f108"
      },
      "source": [
        "y_pred = pipe_ridge.predict(X_val_scaled)\n",
        "MAE = mean_absolute_error(y_val, y_pred)\n",
        "print(f'검증 에러: {MAE:.2f}')"
      ],
      "execution_count": 124,
      "outputs": [
        {
          "output_type": "stream",
          "name": "stdout",
          "text": [
            "검증 에러: 106.57\n"
          ]
        }
      ]
    },
    {
      "cell_type": "markdown",
      "metadata": {
        "id": "K_H7ffI3WrQb"
      },
      "source": [
        "### cf.TransformTargetRegressor\n"
      ]
    },
    {
      "cell_type": "code",
      "metadata": {
        "id": "3AwYWehjcPeh",
        "colab": {
          "base_uri": "https://localhost:8080/"
        },
        "outputId": "1bd56451-3437-4836-8ce5-2f93501cb8fd"
      },
      "source": [
        "tt = TransformedTargetRegressor(regressor=pipe_RF_reg,\n",
        "                                func=np.log1p, inverse_func=np.expm1)\n",
        "\n",
        "tt.fit(X_train_scaled, y_train)\n",
        "tt.score(X_val_scaled, y_val)"
      ],
      "execution_count": 125,
      "outputs": [
        {
          "output_type": "execute_result",
          "data": {
            "text/plain": [
              "0.8159941583002943"
            ]
          },
          "metadata": {},
          "execution_count": 125
        }
      ]
    },
    {
      "cell_type": "code",
      "metadata": {
        "id": "0iDkpsz7O-hY",
        "colab": {
          "base_uri": "https://localhost:8080/"
        },
        "outputId": "035bb0f4-b7f0-49cc-f226-800676371631"
      },
      "source": [
        "y_pred5 = tt.predict(X_train_scaled)\n",
        "MAE = mean_absolute_error(y_train, y_pred5)\n",
        "MAE "
      ],
      "execution_count": 126,
      "outputs": [
        {
          "output_type": "execute_result",
          "data": {
            "text/plain": [
              "20.344820887113713"
            ]
          },
          "metadata": {},
          "execution_count": 126
        }
      ]
    },
    {
      "cell_type": "markdown",
      "metadata": {
        "id": "a-LJz6FT-i_l"
      },
      "source": [
        "###시각화"
      ]
    },
    {
      "cell_type": "markdown",
      "metadata": {
        "id": "8VpHVtMgz0R0"
      },
      "source": [
        "RF에 한정해 하이퍼파라미터를 조정"
      ]
    },
    {
      "cell_type": "code",
      "metadata": {
        "id": "CLhOv5LQFoHa"
      },
      "source": [
        "param_distributions = { \n",
        "    'n_estimators': randint(50, 500), \n",
        "    'max_depth': [10, 15, 20], \n",
        "    'max_features': uniform(0, 1), \n",
        "}\n",
        "\n",
        "search = RandomizedSearchCV(\n",
        "    RandomForestRegressor(random_state=2), \n",
        "    param_distributions=param_distributions, \n",
        "    n_iter=3, \n",
        "    cv=3, \n",
        "    scoring='neg_mean_absolute_error', \n",
        "    verbose=10, \n",
        "    return_train_score=True, \n",
        "    n_jobs=-1, \n",
        "    random_state=2\n",
        ")\n"
      ],
      "execution_count": 127,
      "outputs": []
    },
    {
      "cell_type": "code",
      "metadata": {
        "colab": {
          "base_uri": "https://localhost:8080/"
        },
        "id": "ldbQkctAlxLv",
        "outputId": "0bd7274e-beb4-40a2-a718-3af6ba95170e"
      },
      "source": [
        "search.fit(X_train_encoded, y_train);"
      ],
      "execution_count": null,
      "outputs": [
        {
          "metadata": {
            "tags": null
          },
          "name": "stdout",
          "output_type": "stream",
          "text": [
            "Fitting 3 folds for each of 3 candidates, totalling 9 fits\n"
          ]
        },
        {
          "metadata": {
            "tags": null
          },
          "name": "stderr",
          "output_type": "stream",
          "text": [
            "[Parallel(n_jobs=-1)]: Using backend LokyBackend with 2 concurrent workers.\n",
            "[Parallel(n_jobs=-1)]: Done   1 tasks      | elapsed:   41.0s\n",
            "[Parallel(n_jobs=-1)]: Done   4 tasks      | elapsed:  5.4min\n",
            "[Parallel(n_jobs=-1)]: Done   7 out of   9 | elapsed: 10.3min remaining:  3.0min\n"
          ]
        }
      ]
    },
    {
      "cell_type": "code",
      "metadata": {
        "id": "kRZ_WmWlDLHO"
      },
      "source": [
        "print('최적 하이퍼파라미터: ', search.best_params_)\n",
        "print('CV MAE: ', -search.best_score_)\n",
        "model = search.best_estimator_"
      ],
      "execution_count": null,
      "outputs": []
    },
    {
      "cell_type": "code",
      "metadata": {
        "id": "omRw9BoKWF78"
      },
      "source": [
        "explainer = shap.Explainer(model)\n",
        "shap_values = explainer.shap_values(X_train_encoded.iloc[:20])"
      ],
      "execution_count": null,
      "outputs": []
    },
    {
      "cell_type": "code",
      "metadata": {
        "id": "PtGL5J9rf6GK"
      },
      "source": [
        "shap.initjs()\n",
        "shap.force_plot(\n",
        "    base_value = explainer.expected_value,\n",
        "    shap_values = shap_values,\n",
        "    features = X_train\n",
        ")"
      ],
      "execution_count": null,
      "outputs": []
    },
    {
      "cell_type": "code",
      "metadata": {
        "id": "z18OELfUFvJt"
      },
      "source": [
        "shap.initjs()\n",
        "shap.force_plot(explainer.expected_value, shap_values[0,:], X_train_encoded.iloc[20,:])"
      ],
      "execution_count": null,
      "outputs": []
    },
    {
      "cell_type": "code",
      "metadata": {
        "id": "OeUmgHPNMEhh"
      },
      "source": [
        "shap.initjs()\n",
        "shap.summary_plot(shap_values, X_train_encoded.iloc[:100])"
      ],
      "execution_count": null,
      "outputs": []
    }
  ]
}